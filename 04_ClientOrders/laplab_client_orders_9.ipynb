{
 "cells": [
  {
   "cell_type": "markdown",
   "metadata": {},
   "source": [
    "# Client order 9 :: *ipynb solution draft* <br>"
   ]
  },
  {
   "cell_type": "markdown",
   "metadata": {},
   "source": [
    "## Client Order #9"
   ]
  },
  {
   "cell_type": "markdown",
   "metadata": {},
   "source": [
    "بررسی کنید مهمترین عامل در خرید مشتری کدام ویژگی لپ‌تاپ است."
   ]
  },
  {
   "cell_type": "markdown",
   "metadata": {},
   "source": [
    "---"
   ]
  },
  {
   "cell_type": "markdown",
   "metadata": {},
   "source": [
    "### Read Data"
   ]
  },
  {
   "cell_type": "code",
   "execution_count": 65,
   "metadata": {},
   "outputs": [],
   "source": [
    "# Import libraries\n",
    "\n",
    "import pandas as pd\n",
    "import matplotlib.pyplot as plt"
   ]
  },
  {
   "cell_type": "code",
   "execution_count": 66,
   "metadata": {},
   "outputs": [],
   "source": [
    "# Read data / Clean version of sales_data.csv\n",
    "\n",
    "sales_data = pd.read_csv(\"sales_data_clean.csv\")"
   ]
  },
  {
   "cell_type": "code",
   "execution_count": 67,
   "metadata": {},
   "outputs": [
    {
     "data": {
      "text/html": [
       "<div>\n",
       "<style scoped>\n",
       "    .dataframe tbody tr th:only-of-type {\n",
       "        vertical-align: middle;\n",
       "    }\n",
       "\n",
       "    .dataframe tbody tr th {\n",
       "        vertical-align: top;\n",
       "    }\n",
       "\n",
       "    .dataframe thead th {\n",
       "        text-align: right;\n",
       "    }\n",
       "</style>\n",
       "<table border=\"1\" class=\"dataframe\">\n",
       "  <thead>\n",
       "    <tr style=\"text-align: right;\">\n",
       "      <th></th>\n",
       "      <th>Order_ID</th>\n",
       "      <th>Branch</th>\n",
       "      <th>Order_Date</th>\n",
       "      <th>Order_Priority</th>\n",
       "      <th>Manufacturer</th>\n",
       "      <th>Model_Name</th>\n",
       "      <th>Category</th>\n",
       "      <th>Screen_Size</th>\n",
       "      <th>RAM</th>\n",
       "      <th>OS</th>\n",
       "      <th>...</th>\n",
       "      <th>CPU_GHZ</th>\n",
       "      <th>Storage_SSD</th>\n",
       "      <th>Storage_HDD</th>\n",
       "      <th>Storage_Hybrid</th>\n",
       "      <th>Storage_Flash</th>\n",
       "      <th>Storage_Total</th>\n",
       "      <th>GPU_Brand</th>\n",
       "      <th>GPU_Model</th>\n",
       "      <th>Rating</th>\n",
       "      <th>Store</th>\n",
       "    </tr>\n",
       "  </thead>\n",
       "  <tbody>\n",
       "    <tr>\n",
       "      <th>0</th>\n",
       "      <td>0</td>\n",
       "      <td>Hamedan</td>\n",
       "      <td>1396-10-26</td>\n",
       "      <td>H</td>\n",
       "      <td>Dell</td>\n",
       "      <td>Vostro 3568</td>\n",
       "      <td>Notebook</td>\n",
       "      <td>15.6</td>\n",
       "      <td>8</td>\n",
       "      <td>Windows</td>\n",
       "      <td>...</td>\n",
       "      <td>2.5</td>\n",
       "      <td>256</td>\n",
       "      <td>0</td>\n",
       "      <td>0</td>\n",
       "      <td>0</td>\n",
       "      <td>256</td>\n",
       "      <td>AMD</td>\n",
       "      <td>Radeon R5 M420</td>\n",
       "      <td>NaN</td>\n",
       "      <td>NaN</td>\n",
       "    </tr>\n",
       "    <tr>\n",
       "      <th>1</th>\n",
       "      <td>1</td>\n",
       "      <td>Kermanshah</td>\n",
       "      <td>1394-04-21</td>\n",
       "      <td>H</td>\n",
       "      <td>Lenovo</td>\n",
       "      <td>Yoga 720-13IKB</td>\n",
       "      <td>2 in 1 Convertible</td>\n",
       "      <td>13.3</td>\n",
       "      <td>8</td>\n",
       "      <td>Windows</td>\n",
       "      <td>...</td>\n",
       "      <td>2.5</td>\n",
       "      <td>256</td>\n",
       "      <td>0</td>\n",
       "      <td>0</td>\n",
       "      <td>0</td>\n",
       "      <td>256</td>\n",
       "      <td>Intel</td>\n",
       "      <td>HD Graphics 620</td>\n",
       "      <td>NaN</td>\n",
       "      <td>NaN</td>\n",
       "    </tr>\n",
       "    <tr>\n",
       "      <th>2</th>\n",
       "      <td>2</td>\n",
       "      <td>Rasht</td>\n",
       "      <td>1402-05-24</td>\n",
       "      <td>M</td>\n",
       "      <td>Lenovo</td>\n",
       "      <td>IdeaPad Y700-15ISK</td>\n",
       "      <td>Notebook</td>\n",
       "      <td>15.6</td>\n",
       "      <td>8</td>\n",
       "      <td>Windows</td>\n",
       "      <td>...</td>\n",
       "      <td>2.6</td>\n",
       "      <td>0</td>\n",
       "      <td>1024</td>\n",
       "      <td>0</td>\n",
       "      <td>0</td>\n",
       "      <td>1024</td>\n",
       "      <td>Nvidia</td>\n",
       "      <td>GeForce GTX 960M</td>\n",
       "      <td>NaN</td>\n",
       "      <td>NaN</td>\n",
       "    </tr>\n",
       "    <tr>\n",
       "      <th>3</th>\n",
       "      <td>3</td>\n",
       "      <td>Kermanshah</td>\n",
       "      <td>1397-06-17</td>\n",
       "      <td>H</td>\n",
       "      <td>Dell</td>\n",
       "      <td>Inspiron 5370</td>\n",
       "      <td>Ultrabook</td>\n",
       "      <td>13.3</td>\n",
       "      <td>8</td>\n",
       "      <td>Windows</td>\n",
       "      <td>...</td>\n",
       "      <td>1.8</td>\n",
       "      <td>256</td>\n",
       "      <td>0</td>\n",
       "      <td>0</td>\n",
       "      <td>0</td>\n",
       "      <td>256</td>\n",
       "      <td>AMD</td>\n",
       "      <td>Radeon 530</td>\n",
       "      <td>NaN</td>\n",
       "      <td>NaN</td>\n",
       "    </tr>\n",
       "    <tr>\n",
       "      <th>4</th>\n",
       "      <td>4</td>\n",
       "      <td>Karaj</td>\n",
       "      <td>1392-09-30</td>\n",
       "      <td>L</td>\n",
       "      <td>Acer</td>\n",
       "      <td>Aspire E5-576G</td>\n",
       "      <td>Notebook</td>\n",
       "      <td>15.6</td>\n",
       "      <td>4</td>\n",
       "      <td>Windows</td>\n",
       "      <td>...</td>\n",
       "      <td>2.5</td>\n",
       "      <td>256</td>\n",
       "      <td>0</td>\n",
       "      <td>0</td>\n",
       "      <td>0</td>\n",
       "      <td>256</td>\n",
       "      <td>Nvidia</td>\n",
       "      <td>GeForce 940MX</td>\n",
       "      <td>NaN</td>\n",
       "      <td>NaN</td>\n",
       "    </tr>\n",
       "  </tbody>\n",
       "</table>\n",
       "<p>5 rows × 32 columns</p>\n",
       "</div>"
      ],
      "text/plain": [
       "   Order_ID      Branch  Order_Date Order_Priority Manufacturer  \\\n",
       "0         0     Hamedan  1396-10-26              H         Dell   \n",
       "1         1  Kermanshah  1394-04-21              H       Lenovo   \n",
       "2         2       Rasht  1402-05-24              M       Lenovo   \n",
       "3         3  Kermanshah  1397-06-17              H         Dell   \n",
       "4         4       Karaj  1392-09-30              L         Acer   \n",
       "\n",
       "           Model_Name            Category  Screen_Size  RAM       OS  ...  \\\n",
       "0         Vostro 3568            Notebook         15.6    8  Windows  ...   \n",
       "1      Yoga 720-13IKB  2 in 1 Convertible         13.3    8  Windows  ...   \n",
       "2  IdeaPad Y700-15ISK            Notebook         15.6    8  Windows  ...   \n",
       "3       Inspiron 5370           Ultrabook         13.3    8  Windows  ...   \n",
       "4      Aspire E5-576G            Notebook         15.6    4  Windows  ...   \n",
       "\n",
       "  CPU_GHZ  Storage_SSD  Storage_HDD  Storage_Hybrid  Storage_Flash  \\\n",
       "0     2.5          256            0               0              0   \n",
       "1     2.5          256            0               0              0   \n",
       "2     2.6            0         1024               0              0   \n",
       "3     1.8          256            0               0              0   \n",
       "4     2.5          256            0               0              0   \n",
       "\n",
       "   Storage_Total  GPU_Brand         GPU_Model Rating Store  \n",
       "0            256        AMD    Radeon R5 M420    NaN   NaN  \n",
       "1            256      Intel   HD Graphics 620    NaN   NaN  \n",
       "2           1024     Nvidia  GeForce GTX 960M    NaN   NaN  \n",
       "3            256        AMD        Radeon 530    NaN   NaN  \n",
       "4            256     Nvidia     GeForce 940MX    NaN   NaN  \n",
       "\n",
       "[5 rows x 32 columns]"
      ]
     },
     "execution_count": 67,
     "metadata": {},
     "output_type": "execute_result"
    }
   ],
   "source": [
    "sales_data.head()"
   ]
  },
  {
   "cell_type": "code",
   "execution_count": 68,
   "metadata": {},
   "outputs": [],
   "source": [
    "# sort the data by order date\n",
    "\n",
    "sales_data_sorted = sales_data.sort_values(by=[\"Order_Date\"])"
   ]
  },
  {
   "cell_type": "code",
   "execution_count": 69,
   "metadata": {},
   "outputs": [
    {
     "data": {
      "text/plain": [
       "Index(['Order_ID', 'Branch', 'Order_Date', 'Order_Priority', 'Manufacturer',\n",
       "       'Model_Name', 'Category', 'Screen_Size', 'RAM', 'OS', 'OS_Version',\n",
       "       'Weight', 'Price', 'Quantity', 'Discount', 'Total_Price', 'Profit',\n",
       "       'Ship_Duration', 'Screen_Type', 'Screen_resolution', 'CPU_Brand',\n",
       "       'CPU_Model', 'CPU_GHZ', 'Storage_SSD', 'Storage_HDD', 'Storage_Hybrid',\n",
       "       'Storage_Flash', 'Storage_Total', 'GPU_Brand', 'GPU_Model', 'Rating',\n",
       "       'Store'],\n",
       "      dtype='object')"
      ]
     },
     "execution_count": 69,
     "metadata": {},
     "output_type": "execute_result"
    }
   ],
   "source": [
    "sales_data_sorted.columns"
   ]
  },
  {
   "cell_type": "code",
   "execution_count": 70,
   "metadata": {},
   "outputs": [],
   "source": [
    "# Subset of features chosen to be analyzed\n",
    "\n",
    "selected_features = [\n",
    "    \"Manufacturer\",\n",
    "    \"Category\",\n",
    "    \"Screen_Size\",\n",
    "    \"Screen_Type\",\n",
    "    \"Screen_resolution\",\n",
    "    \"RAM\",\n",
    "    \"OS\",\n",
    "    \"OS_Version\",\n",
    "    \"CPU_Brand\",\n",
    "    \"CPU_Model\",\n",
    "    \"CPU_GHZ\",\n",
    "    \"GPU_Brand\",\n",
    "    \"GPU_Model\",\n",
    "    \"Storage_SSD\",\n",
    "    \"Storage_HDD\",\n",
    "    \"Storage_Hybrid\",\n",
    "    \"Storage_Flash\",  # 'Storage_Total',\n",
    "]"
   ]
  },
  {
   "cell_type": "markdown",
   "metadata": {},
   "source": [
    "### Assumptions:\n",
    "- We don't have a direct column indicating the number of sales or any purchase indicator.\n",
    "- We can assume that the frequency of occurence of a specific feature in the dataset is indicative of its popularity and influence on purchase decisions.\n",
    "- :: if a particular laptop feature appears more often, it may be more popular among customers."
   ]
  },
  {
   "cell_type": "markdown",
   "metadata": {},
   "source": [
    "     Purchase Indicator:\n",
    "        The frequency of occurrence of each feature value"
   ]
  },
  {
   "cell_type": "markdown",
   "metadata": {},
   "source": [
    "### Solution :: **Correlation Analysis**\n",
    "\n",
    "1. Calculate frequency of each unique value for the selected features in the dataframe\n",
    "2. Rank these feature vlaues based on their frequencies\n",
    "3. Correlate the ranking with the calculated order of the dataset to distinguish any trend in the feature popularity over time"
   ]
  },
  {
   "cell_type": "code",
   "execution_count": 71,
   "metadata": {},
   "outputs": [
    {
     "data": {
      "text/plain": [
       "{'Screen_Type': 0.002327872298688404,\n",
       " 'Category': 0.0018913651388763747,\n",
       " 'Storage_HDD': 0.0017294563959249299,\n",
       " 'Storage_SSD': 0.001718283791086534,\n",
       " 'GPU_Brand': -0.0015850609011266482,\n",
       " 'RAM': 0.0015617773868403318,\n",
       " 'GPU_Model': -0.0015027743065722104,\n",
       " 'OS_Version': -0.0012605149725269903,\n",
       " 'CPU_GHZ': 0.0011153802768726717,\n",
       " 'Manufacturer': -0.0011075431652815253,\n",
       " 'Screen_resolution': 0.0008989180333018269,\n",
       " 'Storage_Flash': -0.0006288019664704255,\n",
       " 'OS': 0.0006231567904609357,\n",
       " 'CPU_Brand': 0.000566491904153939,\n",
       " 'Screen_Size': -0.0005318746771864105,\n",
       " 'CPU_Model': 0.0004958753463202725,\n",
       " 'Storage_Hybrid': -0.0004908952596975239}"
      ]
     },
     "execution_count": 71,
     "metadata": {},
     "output_type": "execute_result"
    }
   ],
   "source": [
    "correlations_sorted = {}\n",
    "\n",
    "for feature in selected_features:\n",
    "    ranked_values = (\n",
    "        sales_data_sorted[feature].map(sales_data_sorted[feature].value_counts()).rank()\n",
    "    )\n",
    "\n",
    "    correlation = ranked_values.corr(pd.Series(range(len(sales_data_sorted))))\n",
    "    correlations_sorted[feature] = correlation\n",
    "\n",
    "correlations_sorted = {\n",
    "    k: v\n",
    "    for k, v in sorted(\n",
    "        correlations_sorted.items(), key=lambda item: abs(item[1]), reverse=True\n",
    "    )\n",
    "}\n",
    "correlations_sorted"
   ]
  },
  {
   "cell_type": "code",
   "execution_count": 72,
   "metadata": {},
   "outputs": [
    {
     "data": {
      "image/png": "[encoded data removed]",
      "text/plain": [
       "<Figure size 1200x700 with 1 Axes>"
      ]
     },
     "metadata": {},
     "output_type": "display_data"
    }
   ],
   "source": [
    "plt.figure(figsize=(12, 7))\n",
    "plt.bar(correlations_sorted.keys(), correlations_sorted.values(), color=\"skyblue\")\n",
    "plt.axhline(\n",
    "    y=0, color=\"black\", linestyle=\"--\", linewidth=0.8\n",
    ")  # Add a reference line at y=0 for clarity\n",
    "plt.title(\"Correlation of Laptop Features with Popularity Over Time\")\n",
    "plt.ylabel(\"Correlation Coefficient\")\n",
    "plt.xlabel(\"Laptop Features\")\n",
    "plt.xticks(rotation=90)\n",
    "plt.tight_layout()\n",
    "\n",
    "plt.show()"
   ]
  },
  {
   "cell_type": "markdown",
   "metadata": {},
   "source": [
    "As seen in correlation values and in bar chart, Top 6 influential features on sales are:\n",
    "1. Screen Type\n",
    "2. Category\n",
    "3. Storage : HDD\n",
    "4. Storage : SSD\n",
    "5. GPU Brand\n",
    "6. RAM"
   ]
  }
 ],
 "metadata": {
  "kernelspec": {
   "display_name": "qdaenv",
   "language": "python",
   "name": "python3"
  },
  "language_info": {
   "codemirror_mode": {
    "name": "ipython",
    "version": 3
   },
   "file_extension": ".py",
   "mimetype": "text/x-python",
   "name": "python",
   "nbconvert_exporter": "python",
   "pygments_lexer": "ipython3",
   "version": "3.11.3"
  }
 },
 "nbformat": 4,
 "nbformat_minor": 2
}
