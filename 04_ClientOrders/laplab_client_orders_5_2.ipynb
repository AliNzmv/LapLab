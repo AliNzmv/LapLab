{
 "cells": [
  {
   "cell_type": "code",
   "execution_count": 744,
   "metadata": {},
   "outputs": [],
   "source": [
    "import pandas as pd\n"
   ]
  },
  {
   "cell_type": "code",
   "execution_count": 745,
   "metadata": {},
   "outputs": [],
   "source": [
    "crawl_data = pd.read_csv('laptop_data.csv')"
   ]
  },
  {
   "cell_type": "code",
   "execution_count": 746,
   "metadata": {},
   "outputs": [],
   "source": [
    "crawl_data.drop(columns=['Unnamed: 0'] , inplace=True)"
   ]
  },
  {
   "cell_type": "code",
   "execution_count": 747,
   "metadata": {},
   "outputs": [
    {
     "data": {
      "text/plain": [
       "array(['نوت بوک (لپ تاپ)', nan, 'مکبوک', 'آلترابوک', 'کروم بوک',\n",
       "       'میت بوک'], dtype=object)"
      ]
     },
     "execution_count": 747,
     "metadata": {},
     "output_type": "execute_result"
    }
   ],
   "source": [
    "crawl_data['Device Type'].unique()"
   ]
  },
  {
   "cell_type": "code",
   "execution_count": 748,
   "metadata": {},
   "outputs": [],
   "source": [
    "crawl_data['Device Type']=crawl_data['Device Type'].replace({'نوت بوک (لپ تاپ)':'noteBook','کروم بوک':'chromeBook','آلترابوک':'ultraBook','میت بوک':'mateBook','مکبوک':'macBook'})"
   ]
  },
  {
   "cell_type": "code",
   "execution_count": 749,
   "metadata": {},
   "outputs": [
    {
     "data": {
      "text/html": [
       "<div>\n",
       "<style scoped>\n",
       "    .dataframe tbody tr th:only-of-type {\n",
       "        vertical-align: middle;\n",
       "    }\n",
       "\n",
       "    .dataframe tbody tr th {\n",
       "        vertical-align: top;\n",
       "    }\n",
       "\n",
       "    .dataframe thead th {\n",
       "        text-align: right;\n",
       "    }\n",
       "</style>\n",
       "<table border=\"1\" class=\"dataframe\">\n",
       "  <thead>\n",
       "    <tr style=\"text-align: right;\">\n",
       "      <th></th>\n",
       "      <th>Device Type</th>\n",
       "      <th>Weight</th>\n",
       "      <th>Screen Size</th>\n",
       "      <th>Screen Type</th>\n",
       "      <th>Screen Resolution</th>\n",
       "      <th>Processor Manufacturer</th>\n",
       "      <th>Processor Series</th>\n",
       "      <th>Processor Model</th>\n",
       "      <th>Processor Cache Memory</th>\n",
       "      <th>Processor Frequency</th>\n",
       "      <th>...</th>\n",
       "      <th>Battery Life</th>\n",
       "      <th>Operating System</th>\n",
       "      <th>RAM Frequency</th>\n",
       "      <th>Battery Cell Count</th>\n",
       "      <th>manufacturer</th>\n",
       "      <th>Model</th>\n",
       "      <th>org_price</th>\n",
       "      <th>Discount Percent</th>\n",
       "      <th>store</th>\n",
       "      <th>exist</th>\n",
       "    </tr>\n",
       "  </thead>\n",
       "  <tbody>\n",
       "    <tr>\n",
       "      <th>0</th>\n",
       "      <td>noteBook</td>\n",
       "      <td>1.900</td>\n",
       "      <td>15.0</td>\n",
       "      <td>PixelSense™ Display</td>\n",
       "      <td>2160 * 3840</td>\n",
       "      <td>INTEL</td>\n",
       "      <td>Core i7</td>\n",
       "      <td>8650U</td>\n",
       "      <td>8.0</td>\n",
       "      <td>1.9</td>\n",
       "      <td>...</td>\n",
       "      <td>17.0</td>\n",
       "      <td>Microsoft Windows 10</td>\n",
       "      <td>NaN</td>\n",
       "      <td>NaN</td>\n",
       "      <td>microsoft</td>\n",
       "      <td>surface-book-2</td>\n",
       "      <td>66800000.0</td>\n",
       "      <td>1.5</td>\n",
       "      <td>meghdad</td>\n",
       "      <td>exist</td>\n",
       "    </tr>\n",
       "    <tr>\n",
       "      <th>1</th>\n",
       "      <td>noteBook</td>\n",
       "      <td>1.530</td>\n",
       "      <td>13.5</td>\n",
       "      <td>PixelSense™ Display</td>\n",
       "      <td>2000 * 3000</td>\n",
       "      <td>INTEL</td>\n",
       "      <td>Core i7</td>\n",
       "      <td>8650U</td>\n",
       "      <td>8.0</td>\n",
       "      <td>1.9</td>\n",
       "      <td>...</td>\n",
       "      <td>17.0</td>\n",
       "      <td>Microsoft Windows 10</td>\n",
       "      <td>NaN</td>\n",
       "      <td>NaN</td>\n",
       "      <td>microsoft</td>\n",
       "      <td>surface-book-2</td>\n",
       "      <td>55812000.0</td>\n",
       "      <td>0.7</td>\n",
       "      <td>meghdad</td>\n",
       "      <td>exist</td>\n",
       "    </tr>\n",
       "    <tr>\n",
       "      <th>2</th>\n",
       "      <td>noteBook</td>\n",
       "      <td>1.200</td>\n",
       "      <td>13.5</td>\n",
       "      <td>PixelSense™ Display</td>\n",
       "      <td>2256 * 1504</td>\n",
       "      <td>INTEL</td>\n",
       "      <td>Core i5</td>\n",
       "      <td>1035G7</td>\n",
       "      <td>6.0</td>\n",
       "      <td>1.2</td>\n",
       "      <td>...</td>\n",
       "      <td>14.0</td>\n",
       "      <td>Microsoft Windows 10</td>\n",
       "      <td>NaN</td>\n",
       "      <td>NaN</td>\n",
       "      <td>microsoft</td>\n",
       "      <td>surface-laptop-3-b</td>\n",
       "      <td>40000000.0</td>\n",
       "      <td>2.4</td>\n",
       "      <td>meghdad</td>\n",
       "      <td>exist</td>\n",
       "    </tr>\n",
       "    <tr>\n",
       "      <th>3</th>\n",
       "      <td>noteBook</td>\n",
       "      <td>1.534</td>\n",
       "      <td>13.5</td>\n",
       "      <td>PixelSense™ Display</td>\n",
       "      <td>2000 * 3000</td>\n",
       "      <td>INTEL</td>\n",
       "      <td>Core i7</td>\n",
       "      <td>1065 G7</td>\n",
       "      <td>8.0</td>\n",
       "      <td>NaN</td>\n",
       "      <td>...</td>\n",
       "      <td>15.0</td>\n",
       "      <td>Microsoft Windows 10</td>\n",
       "      <td>NaN</td>\n",
       "      <td>NaN</td>\n",
       "      <td>microsoft</td>\n",
       "      <td>surface-book-3</td>\n",
       "      <td>60500000.0</td>\n",
       "      <td>1.6</td>\n",
       "      <td>meghdad</td>\n",
       "      <td>exist</td>\n",
       "    </tr>\n",
       "    <tr>\n",
       "      <th>4</th>\n",
       "      <td>noteBook</td>\n",
       "      <td>1.200</td>\n",
       "      <td>13.5</td>\n",
       "      <td>PixelSense™ Display</td>\n",
       "      <td>2256 * 1504</td>\n",
       "      <td>INTEL</td>\n",
       "      <td>Core i5</td>\n",
       "      <td>1035G7</td>\n",
       "      <td>6.0</td>\n",
       "      <td>1.2</td>\n",
       "      <td>...</td>\n",
       "      <td>14.0</td>\n",
       "      <td>Microsoft Windows 10</td>\n",
       "      <td>NaN</td>\n",
       "      <td>NaN</td>\n",
       "      <td>microsoft</td>\n",
       "      <td>surface-laptop-3-a</td>\n",
       "      <td>36288000.0</td>\n",
       "      <td>2.7</td>\n",
       "      <td>meghdad</td>\n",
       "      <td>exist</td>\n",
       "    </tr>\n",
       "  </tbody>\n",
       "</table>\n",
       "<p>5 rows × 27 columns</p>\n",
       "</div>"
      ],
      "text/plain": [
       "  Device Type  Weight  Screen Size          Screen Type Screen Resolution  \\\n",
       "0    noteBook   1.900         15.0  PixelSense™ Display       2160 * 3840   \n",
       "1    noteBook   1.530         13.5  PixelSense™ Display       2000 * 3000   \n",
       "2    noteBook   1.200         13.5  PixelSense™ Display       2256 * 1504   \n",
       "3    noteBook   1.534         13.5  PixelSense™ Display       2000 * 3000   \n",
       "4    noteBook   1.200         13.5  PixelSense™ Display       2256 * 1504   \n",
       "\n",
       "  Processor Manufacturer Processor Series Processor Model  \\\n",
       "0                  INTEL          Core i7           8650U   \n",
       "1                  INTEL          Core i7           8650U   \n",
       "2                  INTEL          Core i5          1035G7   \n",
       "3                  INTEL          Core i7         1065 G7   \n",
       "4                  INTEL          Core i5          1035G7   \n",
       "\n",
       "   Processor Cache Memory  Processor Frequency  ... Battery Life  \\\n",
       "0                     8.0                  1.9  ...         17.0   \n",
       "1                     8.0                  1.9  ...         17.0   \n",
       "2                     6.0                  1.2  ...         14.0   \n",
       "3                     8.0                  NaN  ...         15.0   \n",
       "4                     6.0                  1.2  ...         14.0   \n",
       "\n",
       "       Operating System RAM Frequency Battery Cell Count manufacturer  \\\n",
       "0  Microsoft Windows 10           NaN                NaN    microsoft   \n",
       "1  Microsoft Windows 10           NaN                NaN    microsoft   \n",
       "2  Microsoft Windows 10           NaN                NaN    microsoft   \n",
       "3  Microsoft Windows 10           NaN                NaN    microsoft   \n",
       "4  Microsoft Windows 10           NaN                NaN    microsoft   \n",
       "\n",
       "                Model   org_price  Discount Percent    store  exist  \n",
       "0      surface-book-2  66800000.0               1.5  meghdad  exist  \n",
       "1      surface-book-2  55812000.0               0.7  meghdad  exist  \n",
       "2  surface-laptop-3-b  40000000.0               2.4  meghdad  exist  \n",
       "3      surface-book-3  60500000.0               1.6  meghdad  exist  \n",
       "4  surface-laptop-3-a  36288000.0               2.7  meghdad  exist  \n",
       "\n",
       "[5 rows x 27 columns]"
      ]
     },
     "execution_count": 749,
     "metadata": {},
     "output_type": "execute_result"
    }
   ],
   "source": [
    "crawl_data.head()"
   ]
  },
  {
   "cell_type": "code",
   "execution_count": 750,
   "metadata": {},
   "outputs": [
    {
     "data": {
      "text/plain": [
       "Device Type                   2500\n",
       "Weight                        2246\n",
       "Screen Size                   2000\n",
       "Screen Type                   1047\n",
       "Screen Resolution             2064\n",
       "Processor Manufacturer           7\n",
       "Processor Series               241\n",
       "Processor Model                459\n",
       "Processor Cache Memory        1442\n",
       "Processor Frequency           3719\n",
       "RAM Type                       175\n",
       "RAM Memory                       2\n",
       "Internal Memory Capacity      2002\n",
       "Internal Memory Type            14\n",
       "Graphics Card Manufacturer      19\n",
       "Graphics Card Model            203\n",
       "Dedicated Graphics Memory     4026\n",
       "Battery Life                  7271\n",
       "Operating System              4048\n",
       "RAM Frequency                 8921\n",
       "Battery Cell Count            3284\n",
       "manufacturer                  1489\n",
       "Model                         1744\n",
       "org_price                     8942\n",
       "Discount Percent              9678\n",
       "store                            0\n",
       "exist                            0\n",
       "dtype: int64"
      ]
     },
     "execution_count": 750,
     "metadata": {},
     "output_type": "execute_result"
    }
   ],
   "source": [
    "crawl_data.isnull().sum()"
   ]
  },
  {
   "cell_type": "code",
   "execution_count": 751,
   "metadata": {},
   "outputs": [
    {
     "name": "stdout",
     "output_type": "stream",
     "text": [
      "<class 'pandas.core.frame.DataFrame'>\n",
      "RangeIndex: 10122 entries, 0 to 10121\n",
      "Data columns (total 27 columns):\n",
      " #   Column                      Non-Null Count  Dtype  \n",
      "---  ------                      --------------  -----  \n",
      " 0   Device Type                 7622 non-null   object \n",
      " 1   Weight                      7876 non-null   float64\n",
      " 2   Screen Size                 8122 non-null   float64\n",
      " 3   Screen Type                 9075 non-null   object \n",
      " 4   Screen Resolution           8058 non-null   object \n",
      " 5   Processor Manufacturer      10115 non-null  object \n",
      " 6   Processor Series            9881 non-null   object \n",
      " 7   Processor Model             9663 non-null   object \n",
      " 8   Processor Cache Memory      8680 non-null   float64\n",
      " 9   Processor Frequency         6403 non-null   float64\n",
      " 10  RAM Type                    9947 non-null   object \n",
      " 11  RAM Memory                  10120 non-null  float64\n",
      " 12  Internal Memory Capacity    8120 non-null   object \n",
      " 13  Internal Memory Type        10108 non-null  object \n",
      " 14  Graphics Card Manufacturer  10103 non-null  object \n",
      " 15  Graphics Card Model         9919 non-null   object \n",
      " 16  Dedicated Graphics Memory   6096 non-null   float64\n",
      " 17  Battery Life                2851 non-null   float64\n",
      " 18  Operating System            6074 non-null   object \n",
      " 19  RAM Frequency               1201 non-null   float64\n",
      " 20  Battery Cell Count          6838 non-null   float64\n",
      " 21  manufacturer                8633 non-null   object \n",
      " 22  Model                       8378 non-null   object \n",
      " 23  org_price                   1180 non-null   float64\n",
      " 24  Discount Percent            444 non-null    float64\n",
      " 25  store                       10122 non-null  object \n",
      " 26  exist                       10122 non-null  object \n",
      "dtypes: float64(11), object(16)\n",
      "memory usage: 2.1+ MB\n"
     ]
    }
   ],
   "source": [
    "crawl_data.info()"
   ]
  },
  {
   "cell_type": "code",
   "execution_count": 752,
   "metadata": {},
   "outputs": [],
   "source": [
    "crawl_data.dropna(subset=['org_price'] , inplace=True)"
   ]
  },
  {
   "cell_type": "code",
   "execution_count": 753,
   "metadata": {},
   "outputs": [
    {
     "data": {
      "text/plain": [
       "array(['512 Gb', '256 Gb', '128 Gb', '2048', '1024', '64 Gb',\n",
       "       '256 Gb1 Tb', '128 Gb1 Tb', '512 Gb1 Tb', nan], dtype=object)"
      ]
     },
     "execution_count": 753,
     "metadata": {},
     "output_type": "execute_result"
    }
   ],
   "source": [
    "crawl_data['Internal Memory Capacity'].unique()"
   ]
  },
  {
   "cell_type": "code",
   "execution_count": 754,
   "metadata": {},
   "outputs": [],
   "source": [
    "crawl_data.to_csv('preprocesses_order5.csv')"
   ]
  },
  {
   "cell_type": "code",
   "execution_count": 755,
   "metadata": {},
   "outputs": [],
   "source": [
    "data = pd.read_csv('preprocesses_order5V1.csv')"
   ]
  },
  {
   "cell_type": "code",
   "execution_count": 756,
   "metadata": {},
   "outputs": [
    {
     "name": "stdout",
     "output_type": "stream",
     "text": [
      "<class 'pandas.core.frame.DataFrame'>\n",
      "RangeIndex: 1088 entries, 0 to 1087\n",
      "Data columns (total 28 columns):\n",
      " #   Column                      Non-Null Count  Dtype  \n",
      "---  ------                      --------------  -----  \n",
      " 0   Column1                     1088 non-null   int64  \n",
      " 1   Device Type                 440 non-null    object \n",
      " 2   Weight                      439 non-null    float64\n",
      " 3   Screen Size                 443 non-null    float64\n",
      " 4   Screen Type                 939 non-null    object \n",
      " 5   Screen Resolution           427 non-null    object \n",
      " 6   Processor Manufacturer      1083 non-null   object \n",
      " 7   Processor Series            1088 non-null   object \n",
      " 8   Processor Model             1050 non-null   object \n",
      " 9   Processor Cache Memory      1011 non-null   float64\n",
      " 10  Processor Frequency         351 non-null    float64\n",
      " 11  RAM Type                    1084 non-null   object \n",
      " 12  RAM Memory                  1088 non-null   int64  \n",
      " 13  Internal Memory Type SSD    1088 non-null   int64  \n",
      " 14  Internal Memory Type HDD    1088 non-null   int64  \n",
      " 15  Graphics Card Manufacturer  1085 non-null   object \n",
      " 16  Graphics Card Model         1077 non-null   object \n",
      " 17  Dedicated Graphics Memory   217 non-null    float64\n",
      " 18  Battery Life                76 non-null     float64\n",
      " 19  Operating System            448 non-null    object \n",
      " 20  RAM Frequency               80 non-null     float64\n",
      " 21  Battery Cell Count          344 non-null    float64\n",
      " 22  manufacturer                1088 non-null   object \n",
      " 23  Model                       1055 non-null   object \n",
      " 24  org_price                   1088 non-null   int64  \n",
      " 25  Discount Percent            1088 non-null   float64\n",
      " 26  store                       1088 non-null   object \n",
      " 27  exist                       1088 non-null   object \n",
      "dtypes: float64(9), int64(5), object(14)\n",
      "memory usage: 238.1+ KB\n"
     ]
    }
   ],
   "source": [
    "data.info()"
   ]
  },
  {
   "cell_type": "code",
   "execution_count": 757,
   "metadata": {},
   "outputs": [],
   "source": [
    "data = data[['Weight','Processor Manufacturer','Processor Series','Processor Model','RAM Type','RAM Memory','Internal Memory Type SSD','Internal Memory Type HDD','Graphics Card Manufacturer','Dedicated Graphics Memory','Graphics Card Model','manufacturer','org_price','store','Screen Resolution','Screen Type','Screen Size']]"
   ]
  },
  {
   "cell_type": "code",
   "execution_count": 758,
   "metadata": {},
   "outputs": [
    {
     "data": {
      "text/html": [
       "<div>\n",
       "<style scoped>\n",
       "    .dataframe tbody tr th:only-of-type {\n",
       "        vertical-align: middle;\n",
       "    }\n",
       "\n",
       "    .dataframe tbody tr th {\n",
       "        vertical-align: top;\n",
       "    }\n",
       "\n",
       "    .dataframe thead th {\n",
       "        text-align: right;\n",
       "    }\n",
       "</style>\n",
       "<table border=\"1\" class=\"dataframe\">\n",
       "  <thead>\n",
       "    <tr style=\"text-align: right;\">\n",
       "      <th></th>\n",
       "      <th>Weight</th>\n",
       "      <th>Processor Manufacturer</th>\n",
       "      <th>Processor Series</th>\n",
       "      <th>Processor Model</th>\n",
       "      <th>RAM Type</th>\n",
       "      <th>RAM Memory</th>\n",
       "      <th>Internal Memory Type SSD</th>\n",
       "      <th>Internal Memory Type HDD</th>\n",
       "      <th>Graphics Card Manufacturer</th>\n",
       "      <th>Dedicated Graphics Memory</th>\n",
       "      <th>Graphics Card Model</th>\n",
       "      <th>manufacturer</th>\n",
       "      <th>org_price</th>\n",
       "      <th>store</th>\n",
       "      <th>Screen Resolution</th>\n",
       "      <th>Screen Type</th>\n",
       "      <th>Screen Size</th>\n",
       "    </tr>\n",
       "  </thead>\n",
       "  <tbody>\n",
       "    <tr>\n",
       "      <th>0</th>\n",
       "      <td>NaN</td>\n",
       "      <td>Intel</td>\n",
       "      <td>Corei3</td>\n",
       "      <td>1115G4</td>\n",
       "      <td>DDR4</td>\n",
       "      <td>12</td>\n",
       "      <td>0</td>\n",
       "      <td>0</td>\n",
       "      <td>NaN</td>\n",
       "      <td>NaN</td>\n",
       "      <td>UHDGraphics</td>\n",
       "      <td>lenovo</td>\n",
       "      <td>19700000</td>\n",
       "      <td>digikala</td>\n",
       "      <td>NaN</td>\n",
       "      <td>TN</td>\n",
       "      <td>NaN</td>\n",
       "    </tr>\n",
       "    <tr>\n",
       "      <th>1</th>\n",
       "      <td>NaN</td>\n",
       "      <td>Intel</td>\n",
       "      <td>Corei7</td>\n",
       "      <td>1255U</td>\n",
       "      <td>DDR4</td>\n",
       "      <td>16</td>\n",
       "      <td>0</td>\n",
       "      <td>0</td>\n",
       "      <td>Intel</td>\n",
       "      <td>NaN</td>\n",
       "      <td>IrisXe</td>\n",
       "      <td>lenovo</td>\n",
       "      <td>30400000</td>\n",
       "      <td>digikala</td>\n",
       "      <td>NaN</td>\n",
       "      <td>IPS level panel</td>\n",
       "      <td>NaN</td>\n",
       "    </tr>\n",
       "    <tr>\n",
       "      <th>2</th>\n",
       "      <td>NaN</td>\n",
       "      <td>Intel</td>\n",
       "      <td>Corei3</td>\n",
       "      <td>1115G4</td>\n",
       "      <td>DDR4</td>\n",
       "      <td>8</td>\n",
       "      <td>0</td>\n",
       "      <td>0</td>\n",
       "      <td>NaN</td>\n",
       "      <td>NaN</td>\n",
       "      <td>UHDGraphics</td>\n",
       "      <td>lenovo</td>\n",
       "      <td>17990000</td>\n",
       "      <td>digikala</td>\n",
       "      <td>NaN</td>\n",
       "      <td>TN</td>\n",
       "      <td>NaN</td>\n",
       "    </tr>\n",
       "    <tr>\n",
       "      <th>3</th>\n",
       "      <td>NaN</td>\n",
       "      <td>Intel</td>\n",
       "      <td>Corei5</td>\n",
       "      <td>1235U</td>\n",
       "      <td>DDR4</td>\n",
       "      <td>8</td>\n",
       "      <td>0</td>\n",
       "      <td>0</td>\n",
       "      <td>NVIDIA</td>\n",
       "      <td>NaN</td>\n",
       "      <td>GeForceMX550</td>\n",
       "      <td>lenovo</td>\n",
       "      <td>42770000</td>\n",
       "      <td>digikala</td>\n",
       "      <td>NaN</td>\n",
       "      <td>IPS level panel</td>\n",
       "      <td>NaN</td>\n",
       "    </tr>\n",
       "    <tr>\n",
       "      <th>4</th>\n",
       "      <td>NaN</td>\n",
       "      <td>AMD</td>\n",
       "      <td>ATHLON</td>\n",
       "      <td>3050e</td>\n",
       "      <td>DDR4</td>\n",
       "      <td>4</td>\n",
       "      <td>0</td>\n",
       "      <td>0</td>\n",
       "      <td>AMD</td>\n",
       "      <td>NaN</td>\n",
       "      <td>RADEONRXVEGA3</td>\n",
       "      <td>lenovo</td>\n",
       "      <td>9900000</td>\n",
       "      <td>digikala</td>\n",
       "      <td>NaN</td>\n",
       "      <td>TN</td>\n",
       "      <td>NaN</td>\n",
       "    </tr>\n",
       "  </tbody>\n",
       "</table>\n",
       "</div>"
      ],
      "text/plain": [
       "   Weight Processor Manufacturer Processor Series Processor Model RAM Type  \\\n",
       "0     NaN                  Intel           Corei3          1115G4     DDR4   \n",
       "1     NaN                  Intel           Corei7           1255U     DDR4   \n",
       "2     NaN                  Intel           Corei3          1115G4     DDR4   \n",
       "3     NaN                  Intel           Corei5           1235U     DDR4   \n",
       "4     NaN                    AMD           ATHLON           3050e     DDR4   \n",
       "\n",
       "   RAM Memory  Internal Memory Type SSD  Internal Memory Type HDD  \\\n",
       "0          12                         0                         0   \n",
       "1          16                         0                         0   \n",
       "2           8                         0                         0   \n",
       "3           8                         0                         0   \n",
       "4           4                         0                         0   \n",
       "\n",
       "  Graphics Card Manufacturer  Dedicated Graphics Memory Graphics Card Model  \\\n",
       "0                        NaN                        NaN         UHDGraphics   \n",
       "1                      Intel                        NaN              IrisXe   \n",
       "2                        NaN                        NaN         UHDGraphics   \n",
       "3                     NVIDIA                        NaN        GeForceMX550   \n",
       "4                        AMD                        NaN       RADEONRXVEGA3   \n",
       "\n",
       "  manufacturer  org_price     store Screen Resolution      Screen Type  \\\n",
       "0       lenovo   19700000  digikala               NaN               TN   \n",
       "1       lenovo   30400000  digikala               NaN  IPS level panel   \n",
       "2       lenovo   17990000  digikala               NaN               TN   \n",
       "3       lenovo   42770000  digikala               NaN  IPS level panel   \n",
       "4       lenovo    9900000  digikala               NaN               TN   \n",
       "\n",
       "   Screen Size  \n",
       "0          NaN  \n",
       "1          NaN  \n",
       "2          NaN  \n",
       "3          NaN  \n",
       "4          NaN  "
      ]
     },
     "execution_count": 758,
     "metadata": {},
     "output_type": "execute_result"
    }
   ],
   "source": [
    "data.head()"
   ]
  },
  {
   "cell_type": "code",
   "execution_count": 759,
   "metadata": {},
   "outputs": [],
   "source": [
    "data.to_csv('preprocesses_order6.csv')"
   ]
  },
  {
   "cell_type": "code",
   "execution_count": 760,
   "metadata": {},
   "outputs": [],
   "source": [
    "data = pd.read_csv('preprocesses_order6V1.csv')"
   ]
  },
  {
   "cell_type": "code",
   "execution_count": 761,
   "metadata": {},
   "outputs": [
    {
     "data": {
      "text/plain": [
       "Processor Manufacturer          0\n",
       "Processor Series                0\n",
       "Processor Model                 0\n",
       "RAM Type                        0\n",
       "RAM Memory                      0\n",
       "Internal Memory Type SSD        0\n",
       "Internal Memory Type HDD        0\n",
       "Graphics Card Manufacturer      0\n",
       "Dedicated Graphics Memory       0\n",
       "Graphics Card Model             0\n",
       "manufacturer                    0\n",
       "org_price                       0\n",
       "store                           0\n",
       "Screen Resolution             652\n",
       "Screen Type                     0\n",
       "Screen Size                   639\n",
       "dtype: int64"
      ]
     },
     "execution_count": 761,
     "metadata": {},
     "output_type": "execute_result"
    }
   ],
   "source": [
    "data.isnull().sum()"
   ]
  },
  {
   "cell_type": "code",
   "execution_count": 762,
   "metadata": {},
   "outputs": [
    {
     "data": {
      "text/plain": [
       "0    15.6\n",
       "Name: Screen Size, dtype: float64"
      ]
     },
     "execution_count": 762,
     "metadata": {},
     "output_type": "execute_result"
    }
   ],
   "source": [
    "data[\"Screen Size\"].mode()"
   ]
  },
  {
   "cell_type": "code",
   "execution_count": 763,
   "metadata": {},
   "outputs": [],
   "source": [
    "data['Screen Resolution']=data['Screen Resolution'].fillna('1080 * 1920')\n",
    "data['Screen Size']=data['Screen Size'].fillna('15.6')"
   ]
  },
  {
   "cell_type": "code",
   "execution_count": 764,
   "metadata": {},
   "outputs": [],
   "source": [
    "data[\"Screen_resolution_width\"] = data[\"Screen Resolution\"].str.split(\"*\").str[0].astype(int)\n",
    "data[\"Screen_resolution_height\"] = data[\"Screen Resolution\"].str.split(\"*\").str[1].astype(int)\n",
    "data.drop(columns=['Screen Resolution'] , inplace=True)"
   ]
  },
  {
   "cell_type": "code",
   "execution_count": 765,
   "metadata": {},
   "outputs": [
    {
     "data": {
      "text/html": [
       "<div>\n",
       "<style scoped>\n",
       "    .dataframe tbody tr th:only-of-type {\n",
       "        vertical-align: middle;\n",
       "    }\n",
       "\n",
       "    .dataframe tbody tr th {\n",
       "        vertical-align: top;\n",
       "    }\n",
       "\n",
       "    .dataframe thead th {\n",
       "        text-align: right;\n",
       "    }\n",
       "</style>\n",
       "<table border=\"1\" class=\"dataframe\">\n",
       "  <thead>\n",
       "    <tr style=\"text-align: right;\">\n",
       "      <th></th>\n",
       "      <th>Processor Manufacturer</th>\n",
       "      <th>Processor Series</th>\n",
       "      <th>Processor Model</th>\n",
       "      <th>RAM Type</th>\n",
       "      <th>RAM Memory</th>\n",
       "      <th>Internal Memory Type SSD</th>\n",
       "      <th>Internal Memory Type HDD</th>\n",
       "      <th>Graphics Card Manufacturer</th>\n",
       "      <th>Dedicated Graphics Memory</th>\n",
       "      <th>Graphics Card Model</th>\n",
       "      <th>manufacturer</th>\n",
       "      <th>org_price</th>\n",
       "      <th>store</th>\n",
       "      <th>Screen Type</th>\n",
       "      <th>Screen Size</th>\n",
       "      <th>Screen_resolution_width</th>\n",
       "      <th>Screen_resolution_height</th>\n",
       "    </tr>\n",
       "  </thead>\n",
       "  <tbody>\n",
       "    <tr>\n",
       "      <th>0</th>\n",
       "      <td>Intel</td>\n",
       "      <td>Corei7</td>\n",
       "      <td>1250U</td>\n",
       "      <td>DDR5</td>\n",
       "      <td>16</td>\n",
       "      <td>1024</td>\n",
       "      <td>0</td>\n",
       "      <td>Intel</td>\n",
       "      <td>4</td>\n",
       "      <td>Intel Iris Xe</td>\n",
       "      <td>asus</td>\n",
       "      <td>201999000</td>\n",
       "      <td>meghdad</td>\n",
       "      <td>FOLED</td>\n",
       "      <td>17.3</td>\n",
       "      <td>2560</td>\n",
       "      <td>1920</td>\n",
       "    </tr>\n",
       "    <tr>\n",
       "      <th>1</th>\n",
       "      <td>Intel</td>\n",
       "      <td>Corei5</td>\n",
       "      <td>1135G7</td>\n",
       "      <td>DDR4</td>\n",
       "      <td>32</td>\n",
       "      <td>512</td>\n",
       "      <td>1024</td>\n",
       "      <td>Nvidia</td>\n",
       "      <td>2</td>\n",
       "      <td>MX350 GDDR5</td>\n",
       "      <td>dell</td>\n",
       "      <td>34990000</td>\n",
       "      <td>meghdad</td>\n",
       "      <td>HD</td>\n",
       "      <td>15.6</td>\n",
       "      <td>768</td>\n",
       "      <td>1366</td>\n",
       "    </tr>\n",
       "    <tr>\n",
       "      <th>2</th>\n",
       "      <td>Intel</td>\n",
       "      <td>Corei5</td>\n",
       "      <td>1135G7</td>\n",
       "      <td>DDR4</td>\n",
       "      <td>16</td>\n",
       "      <td>512</td>\n",
       "      <td>1024</td>\n",
       "      <td>Nvidia</td>\n",
       "      <td>2</td>\n",
       "      <td>MX350 GDDR5</td>\n",
       "      <td>dell</td>\n",
       "      <td>32750000</td>\n",
       "      <td>meghdad</td>\n",
       "      <td>HD</td>\n",
       "      <td>15.6</td>\n",
       "      <td>768</td>\n",
       "      <td>1366</td>\n",
       "    </tr>\n",
       "    <tr>\n",
       "      <th>3</th>\n",
       "      <td>Intel</td>\n",
       "      <td>Corei5</td>\n",
       "      <td>11400H</td>\n",
       "      <td>DDR4</td>\n",
       "      <td>32</td>\n",
       "      <td>512</td>\n",
       "      <td>0</td>\n",
       "      <td>Nvidia</td>\n",
       "      <td>4</td>\n",
       "      <td>GeForce RTX3050</td>\n",
       "      <td>asus</td>\n",
       "      <td>45289000</td>\n",
       "      <td>meghdad</td>\n",
       "      <td>IPS</td>\n",
       "      <td>15.6</td>\n",
       "      <td>1080</td>\n",
       "      <td>1920</td>\n",
       "    </tr>\n",
       "    <tr>\n",
       "      <th>4</th>\n",
       "      <td>Apple</td>\n",
       "      <td>M2</td>\n",
       "      <td>M2 8 Cores</td>\n",
       "      <td>Unified</td>\n",
       "      <td>8</td>\n",
       "      <td>0</td>\n",
       "      <td>0</td>\n",
       "      <td>Apple</td>\n",
       "      <td>4</td>\n",
       "      <td>Integrated10Cores</td>\n",
       "      <td>apple</td>\n",
       "      <td>74490000</td>\n",
       "      <td>digikala</td>\n",
       "      <td>IPS</td>\n",
       "      <td>15.6</td>\n",
       "      <td>1080</td>\n",
       "      <td>1920</td>\n",
       "    </tr>\n",
       "  </tbody>\n",
       "</table>\n",
       "</div>"
      ],
      "text/plain": [
       "  Processor Manufacturer Processor Series Processor Model RAM Type  \\\n",
       "0                  Intel           Corei7           1250U     DDR5   \n",
       "1                  Intel           Corei5          1135G7     DDR4   \n",
       "2                  Intel           Corei5          1135G7     DDR4   \n",
       "3                  Intel           Corei5          11400H     DDR4   \n",
       "4                  Apple               M2      M2 8 Cores  Unified   \n",
       "\n",
       "   RAM Memory  Internal Memory Type SSD  Internal Memory Type HDD  \\\n",
       "0          16                      1024                         0   \n",
       "1          32                       512                      1024   \n",
       "2          16                       512                      1024   \n",
       "3          32                       512                         0   \n",
       "4           8                         0                         0   \n",
       "\n",
       "  Graphics Card Manufacturer  Dedicated Graphics Memory Graphics Card Model  \\\n",
       "0                      Intel                          4       Intel Iris Xe   \n",
       "1                     Nvidia                          2         MX350 GDDR5   \n",
       "2                     Nvidia                          2         MX350 GDDR5   \n",
       "3                     Nvidia                          4     GeForce RTX3050   \n",
       "4                      Apple                          4   Integrated10Cores   \n",
       "\n",
       "  manufacturer  org_price     store Screen Type Screen Size  \\\n",
       "0         asus  201999000   meghdad       FOLED        17.3   \n",
       "1         dell   34990000   meghdad          HD        15.6   \n",
       "2         dell   32750000   meghdad          HD        15.6   \n",
       "3         asus   45289000   meghdad         IPS        15.6   \n",
       "4        apple   74490000  digikala         IPS        15.6   \n",
       "\n",
       "   Screen_resolution_width  Screen_resolution_height  \n",
       "0                     2560                      1920  \n",
       "1                      768                      1366  \n",
       "2                      768                      1366  \n",
       "3                     1080                      1920  \n",
       "4                     1080                      1920  "
      ]
     },
     "execution_count": 765,
     "metadata": {},
     "output_type": "execute_result"
    }
   ],
   "source": [
    "data.head()"
   ]
  },
  {
   "cell_type": "code",
   "execution_count": 766,
   "metadata": {},
   "outputs": [],
   "source": [
    "data.drop_duplicates(inplace=True)"
   ]
  },
  {
   "cell_type": "code",
   "execution_count": 767,
   "metadata": {},
   "outputs": [
    {
     "name": "stdout",
     "output_type": "stream",
     "text": [
      "<class 'pandas.core.frame.DataFrame'>\n",
      "Index: 932 entries, 0 to 1033\n",
      "Data columns (total 17 columns):\n",
      " #   Column                      Non-Null Count  Dtype \n",
      "---  ------                      --------------  ----- \n",
      " 0   Processor Manufacturer      932 non-null    object\n",
      " 1   Processor Series            932 non-null    object\n",
      " 2   Processor Model             932 non-null    object\n",
      " 3   RAM Type                    932 non-null    object\n",
      " 4   RAM Memory                  932 non-null    int64 \n",
      " 5   Internal Memory Type SSD    932 non-null    int64 \n",
      " 6   Internal Memory Type HDD    932 non-null    int64 \n",
      " 7   Graphics Card Manufacturer  932 non-null    object\n",
      " 8   Dedicated Graphics Memory   932 non-null    int64 \n",
      " 9   Graphics Card Model         932 non-null    object\n",
      " 10  manufacturer                932 non-null    object\n",
      " 11  org_price                   932 non-null    int64 \n",
      " 12  store                       932 non-null    object\n",
      " 13  Screen Type                 932 non-null    object\n",
      " 14  Screen Size                 932 non-null    object\n",
      " 15  Screen_resolution_width     932 non-null    int32 \n",
      " 16  Screen_resolution_height    932 non-null    int32 \n",
      "dtypes: int32(2), int64(5), object(10)\n",
      "memory usage: 123.8+ KB\n"
     ]
    }
   ],
   "source": [
    "data.info()"
   ]
  },
  {
   "cell_type": "code",
   "execution_count": 768,
   "metadata": {},
   "outputs": [],
   "source": [
    "from sklearn.model_selection import train_test_split"
   ]
  },
  {
   "cell_type": "code",
   "execution_count": 769,
   "metadata": {},
   "outputs": [],
   "source": [
    "x_train , x_test = train_test_split(data, test_size=0.3, random_state=1)"
   ]
  },
  {
   "cell_type": "code",
   "execution_count": 770,
   "metadata": {},
   "outputs": [],
   "source": [
    "x_test.to_csv('unseenData.csv')"
   ]
  },
  {
   "cell_type": "markdown",
   "metadata": {},
   "source": [
    "Categorize object Type\n"
   ]
  },
  {
   "cell_type": "code",
   "execution_count": 771,
   "metadata": {},
   "outputs": [],
   "source": [
    "lable_count = {'meghdad':0 , 'digikala':1}\n",
    "x_train['store'] = x_train['store'].map(lable_count)\n",
    "lable_count = {'meghdad':0 , 'digikala':1}\n",
    "x_test['store'] = x_test['store'].map(lable_count)"
   ]
  },
  {
   "cell_type": "code",
   "execution_count": 772,
   "metadata": {},
   "outputs": [],
   "source": [
    "lable_count = {'FOLED':0 , 'HD':1, 'IPS':2 , 'LED Backlit':3 ,'Liquid Retina':4,'OLED':5 ,'PixelSense':6,'TN': 7,'WLED Backlit':8,'WUXGA':9 ,'WV':10,'full hd':11 ,'lcd':12}\n",
    "x_train['Screen Type'] = x_train['Screen Type'].map(lable_count)\n",
    "lable_count = {'FOLED':0 , 'HD':1, 'IPS':2 , 'LED Backlit':3 ,'Liquid Retina':4,'OLED':5 ,'PixelSense':6,'TN': 7,'WLED Backlit':8,'WUXGA':9 ,'WV':10,'full hd':11 ,'lcd':12}\n",
    "x_test['Screen Type'] = x_test['Screen Type'].map(lable_count)"
   ]
  },
  {
   "cell_type": "code",
   "execution_count": 773,
   "metadata": {},
   "outputs": [],
   "source": [
    "x_train['Screen Size']=x_train['Screen Size'].replace('15.6',15.6)\n",
    "x_test['Screen Size']=x_test['Screen Size'].replace('15.6',15.6)"
   ]
  },
  {
   "cell_type": "code",
   "execution_count": 774,
   "metadata": {},
   "outputs": [],
   "source": [
    "lable_count = {'asus':0 , 'dell':1, 'apple':2 , 'lenovo':3 , 'acer':4 ,'msi': 5,'hp':6 ,'xpg': 7,'huawie': 8,'microsoft':9 }\n",
    "x_train['manufacturer'] = x_train['manufacturer'].map(lable_count)\n",
    "lable_count = {'asus':0 , 'dell':1, 'apple':2 , 'lenovo':3 , 'acer':4 ,'msi': 5,'hp':6 ,'xpg': 7,'huawie': 8,'microsoft':9 }\n",
    "x_test['manufacturer'] = x_test['manufacturer'].map(lable_count)"
   ]
  },
  {
   "cell_type": "code",
   "execution_count": 775,
   "metadata": {},
   "outputs": [],
   "source": [
    "lable_count = {'Intel':0 , 'Apple':1, 'AMD':2 , 'Nvidia':3}\n",
    "x_train['Graphics Card Manufacturer'] = x_train['Graphics Card Manufacturer'].map(lable_count)\n",
    "lable_count = {'Intel':0 , 'Apple':1, 'AMD':2 , 'Nvidia':3}\n",
    "x_test['Graphics Card Manufacturer'] = x_test['Graphics Card Manufacturer'].map(lable_count)"
   ]
  },
  {
   "cell_type": "code",
   "execution_count": 776,
   "metadata": {},
   "outputs": [],
   "source": [
    "x_train['RAM Type']=x_train['RAM Type'].str.replace('unified memory','Unified')\n",
    "x_test['RAM Type']=x_test['RAM Type'].str.replace('unified memory','Unified')"
   ]
  },
  {
   "cell_type": "code",
   "execution_count": 777,
   "metadata": {},
   "outputs": [],
   "source": [
    "lable_count = {'DDR5':0 , 'DDR4':1, 'Unified':2 , 'LPDDR5': 3, 'LPDDR4X': 4, 'LPDDR5X': 5, 'DDR3': 6}\n",
    "x_train['RAM Type'] = x_train['RAM Type'].map(lable_count)\n",
    "lable_count = {'DDR5':0 , 'DDR4':1, 'Unified':2 , 'LPDDR5': 3, 'LPDDR4X': 4, 'LPDDR5X': 5, 'DDR3': 6}\n",
    "x_test['RAM Type'] = x_test['RAM Type'].map(lable_count)"
   ]
  },
  {
   "cell_type": "code",
   "execution_count": 778,
   "metadata": {},
   "outputs": [],
   "source": [
    "lable_count = {'Corei7':0 , 'Corei5':1, 'M2':2 , 'Ryzen5':3 ,'Ryzen3':4,'Ryzen7':5 ,'Corei3':6,'M2Pro': 7,'Corei9':8,'Ryzen9':9 ,'M1':10,'M2MAX':11 ,'M1Pro':12,'Celeron': 13,'ATHLON':14,'Pentium':15}\n",
    "x_train['Processor Series'] = x_train['Processor Series'].map(lable_count)\n",
    "lable_count = {'Corei7':0 , 'Corei5':1, 'M2':2 , 'Ryzen5':3 ,'Ryzen3':4,'Ryzen7':5 ,'Corei3':6,'M2Pro': 7,'Corei9':8,'Ryzen9':9 ,'M1':10,'M2MAX':11 ,'M1Pro':12,'Celeron': 13,'ATHLON':14,'Pentium':15}\n",
    "x_test['Processor Series'] = x_test['Processor Series'].map(lable_count)"
   ]
  },
  {
   "cell_type": "code",
   "execution_count": 779,
   "metadata": {},
   "outputs": [],
   "source": [
    "lable_count = {'Intel':0 , 'Apple':1, 'AMD':2}\n",
    "x_train['Processor Manufacturer'] = x_train['Processor Manufacturer'].map(lable_count)\n",
    "lable_count = {'Intel':0 , 'Apple':1, 'AMD':2}\n",
    "x_test['Processor Manufacturer'] = x_test['Processor Manufacturer'].map(lable_count)"
   ]
  },
  {
   "cell_type": "code",
   "execution_count": 780,
   "metadata": {},
   "outputs": [],
   "source": [
    "from sklearn.linear_model import LogisticRegression\n",
    "from sklearn.linear_model import LinearRegression\n",
    "from sklearn.linear_model import Ridge\n",
    "from sklearn.preprocessing import PolynomialFeatures\n",
    "from sklearn.pipeline import make_pipeline\n",
    "from sklearn.ensemble import GradientBoostingRegressor\n",
    "from sklearn.ensemble import RandomForestRegressor\n",
    "from sklearn.neighbors import KNeighborsRegressor\n",
    "from sklearn.linear_model import Lasso\n",
    "from sklearn.linear_model import LogisticRegression\n",
    "from sklearn.svm import SVR\n",
    "from sklearn.linear_model import ElasticNet\n",
    "from sklearn.model_selection import GridSearchCV , cross_val_score, KFold\n"
   ]
  },
  {
   "cell_type": "code",
   "execution_count": 781,
   "metadata": {},
   "outputs": [],
   "source": [
    "X = x_train.drop(['Graphics Card Model', 'Processor Model','org_price'], axis=1)\n",
    "y = x_train.org_price"
   ]
  },
  {
   "cell_type": "code",
   "execution_count": 782,
   "metadata": {},
   "outputs": [],
   "source": [
    "X_test = x_test.drop(['Graphics Card Model', 'Processor Model','org_price'], axis=1)\n",
    "y_test = x_test.org_price"
   ]
  },
  {
   "cell_type": "code",
   "execution_count": 783,
   "metadata": {},
   "outputs": [
    {
     "data": {
      "text/html": [
       "<style>#sk-container-id-22 {color: black;}#sk-container-id-22 pre{padding: 0;}#sk-container-id-22 div.sk-toggleable {background-color: white;}#sk-container-id-22 label.sk-toggleable__label {cursor: pointer;display: block;width: 100%;margin-bottom: 0;padding: 0.3em;box-sizing: border-box;text-align: center;}#sk-container-id-22 label.sk-toggleable__label-arrow:before {content: \"▸\";float: left;margin-right: 0.25em;color: #696969;}#sk-container-id-22 label.sk-toggleable__label-arrow:hover:before {color: black;}#sk-container-id-22 div.sk-estimator:hover label.sk-toggleable__label-arrow:before {color: black;}#sk-container-id-22 div.sk-toggleable__content {max-height: 0;max-width: 0;overflow: hidden;text-align: left;background-color: #f0f8ff;}#sk-container-id-22 div.sk-toggleable__content pre {margin: 0.2em;color: black;border-radius: 0.25em;background-color: #f0f8ff;}#sk-container-id-22 input.sk-toggleable__control:checked~div.sk-toggleable__content {max-height: 200px;max-width: 100%;overflow: auto;}#sk-container-id-22 input.sk-toggleable__control:checked~label.sk-toggleable__label-arrow:before {content: \"▾\";}#sk-container-id-22 div.sk-estimator input.sk-toggleable__control:checked~label.sk-toggleable__label {background-color: #d4ebff;}#sk-container-id-22 div.sk-label input.sk-toggleable__control:checked~label.sk-toggleable__label {background-color: #d4ebff;}#sk-container-id-22 input.sk-hidden--visually {border: 0;clip: rect(1px 1px 1px 1px);clip: rect(1px, 1px, 1px, 1px);height: 1px;margin: -1px;overflow: hidden;padding: 0;position: absolute;width: 1px;}#sk-container-id-22 div.sk-estimator {font-family: monospace;background-color: #f0f8ff;border: 1px dotted black;border-radius: 0.25em;box-sizing: border-box;margin-bottom: 0.5em;}#sk-container-id-22 div.sk-estimator:hover {background-color: #d4ebff;}#sk-container-id-22 div.sk-parallel-item::after {content: \"\";width: 100%;border-bottom: 1px solid gray;flex-grow: 1;}#sk-container-id-22 div.sk-label:hover label.sk-toggleable__label {background-color: #d4ebff;}#sk-container-id-22 div.sk-serial::before {content: \"\";position: absolute;border-left: 1px solid gray;box-sizing: border-box;top: 0;bottom: 0;left: 50%;z-index: 0;}#sk-container-id-22 div.sk-serial {display: flex;flex-direction: column;align-items: center;background-color: white;padding-right: 0.2em;padding-left: 0.2em;position: relative;}#sk-container-id-22 div.sk-item {position: relative;z-index: 1;}#sk-container-id-22 div.sk-parallel {display: flex;align-items: stretch;justify-content: center;background-color: white;position: relative;}#sk-container-id-22 div.sk-item::before, #sk-container-id-22 div.sk-parallel-item::before {content: \"\";position: absolute;border-left: 1px solid gray;box-sizing: border-box;top: 0;bottom: 0;left: 50%;z-index: -1;}#sk-container-id-22 div.sk-parallel-item {display: flex;flex-direction: column;z-index: 1;position: relative;background-color: white;}#sk-container-id-22 div.sk-parallel-item:first-child::after {align-self: flex-end;width: 50%;}#sk-container-id-22 div.sk-parallel-item:last-child::after {align-self: flex-start;width: 50%;}#sk-container-id-22 div.sk-parallel-item:only-child::after {width: 0;}#sk-container-id-22 div.sk-dashed-wrapped {border: 1px dashed gray;margin: 0 0.4em 0.5em 0.4em;box-sizing: border-box;padding-bottom: 0.4em;background-color: white;}#sk-container-id-22 div.sk-label label {font-family: monospace;font-weight: bold;display: inline-block;line-height: 1.2em;}#sk-container-id-22 div.sk-label-container {text-align: center;}#sk-container-id-22 div.sk-container {/* jupyter's `normalize.less` sets `[hidden] { display: none; }` but bootstrap.min.css set `[hidden] { display: none !important; }` so we also need the `!important` here to be able to override the default hidden behavior on the sphinx rendered scikit-learn.org. See: https://github.com/scikit-learn/scikit-learn/issues/21755 */display: inline-block !important;position: relative;}#sk-container-id-22 div.sk-text-repr-fallback {display: none;}</style><div id=\"sk-container-id-22\" class=\"sk-top-container\"><div class=\"sk-text-repr-fallback\"><pre>RandomForestRegressor(max_depth=10, max_samples=180, random_state=85)</pre><b>In a Jupyter environment, please rerun this cell to show the HTML representation or trust the notebook. <br />On GitHub, the HTML representation is unable to render, please try loading this page with nbviewer.org.</b></div><div class=\"sk-container\" hidden><div class=\"sk-item\"><div class=\"sk-estimator sk-toggleable\"><input class=\"sk-toggleable__control sk-hidden--visually\" id=\"sk-estimator-id-22\" type=\"checkbox\" checked><label for=\"sk-estimator-id-22\" class=\"sk-toggleable__label sk-toggleable__label-arrow\">RandomForestRegressor</label><div class=\"sk-toggleable__content\"><pre>RandomForestRegressor(max_depth=10, max_samples=180, random_state=85)</pre></div></div></div></div></div>"
      ],
      "text/plain": [
       "RandomForestRegressor(max_depth=10, max_samples=180, random_state=85)"
      ]
     },
     "execution_count": 783,
     "metadata": {},
     "output_type": "execute_result"
    }
   ],
   "source": [
    "model = RandomForestRegressor(n_estimators=100, random_state=85, max_depth=10,max_samples=180)\n",
    "model.fit(X, y)"
   ]
  },
  {
   "cell_type": "code",
   "execution_count": 784,
   "metadata": {},
   "outputs": [],
   "source": [
    "from sklearn.metrics import r2_score , mean_squared_error"
   ]
  },
  {
   "cell_type": "code",
   "execution_count": 785,
   "metadata": {},
   "outputs": [
    {
     "name": "stdout",
     "output_type": "stream",
     "text": [
      "R2 Train Data:  0.80\n",
      "R2 Test Data:  0.76\n"
     ]
    }
   ],
   "source": [
    "y_pred_train = model.predict(X)\n",
    "r2_train = r2_score(y, y_pred_train)\n",
    "y_pred_test = model.predict(X_test)\n",
    "r2_test = r2_score(y_test, y_pred_test)\n",
    "print(\"R2 Train Data: \", f'{r2_train:,.2f}')\n",
    "print(\"R2 Test Data: \", f'{r2_test:,.2f}')"
   ]
  },
  {
   "cell_type": "code",
   "execution_count": 786,
   "metadata": {},
   "outputs": [],
   "source": [
    "predict_data = pd.read_csv('unseenData.csv')"
   ]
  },
  {
   "cell_type": "code",
   "execution_count": 787,
   "metadata": {},
   "outputs": [],
   "source": [
    "predict_data['predict']=y_pred_test"
   ]
  },
  {
   "cell_type": "code",
   "execution_count": 788,
   "metadata": {},
   "outputs": [],
   "source": [
    "predict_data.drop(columns=['Unnamed: 0'] , inplace=True)"
   ]
  },
  {
   "cell_type": "code",
   "execution_count": 789,
   "metadata": {},
   "outputs": [],
   "source": [
    "predict_data.to_csv('output_predict.csv')"
   ]
  }
 ],
 "metadata": {
  "kernelspec": {
   "display_name": "BootCamp",
   "language": "python",
   "name": "python3"
  },
  "language_info": {
   "codemirror_mode": {
    "name": "ipython",
    "version": 3
   },
   "file_extension": ".py",
   "mimetype": "text/x-python",
   "name": "python",
   "nbconvert_exporter": "python",
   "pygments_lexer": "ipython3",
   "version": "3.9.18"
  }
 },
 "nbformat": 4,
 "nbformat_minor": 2
}
