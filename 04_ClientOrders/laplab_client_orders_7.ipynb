{
 "cells": [
  {
   "cell_type": "markdown",
   "metadata": {},
   "source": [
    "# Client Order 7 :: *ipynb solution draft* <br>"
   ]
  },
  {
   "cell_type": "markdown",
   "metadata": {},
   "source": [
    "در گذشته شرکت سیاستی داشت که به سفارشات یک درجه اهمیت نسبت می‌داد و متناسب با آن در برخی مسائل (مانند نحوه ارسال و ….) متفاوت عمل می‌کرد، اما این قضیه در عمل، سختی‌هایی را به همراه دارد، برای همین از شما خواسته شده تا بررسی کنید که آیا این سیاست ارزش آن را دارد که شرکت این سختی‌ها را متحمل شود یا خیر؟"
   ]
  },
  {
   "cell_type": "markdown",
   "metadata": {},
   "source": [
    "## Read Data"
   ]
  },
  {
   "cell_type": "code",
   "execution_count": 42,
   "metadata": {},
   "outputs": [],
   "source": [
    "# Import libraries\n",
    "\n",
    "import pandas as pd\n",
    "\n",
    "from scipy.stats import f_oneway"
   ]
  },
  {
   "cell_type": "code",
   "execution_count": 43,
   "metadata": {},
   "outputs": [
    {
     "data": {
      "text/html": [
       "<div>\n",
       "<style scoped>\n",
       "    .dataframe tbody tr th:only-of-type {\n",
       "        vertical-align: middle;\n",
       "    }\n",
       "\n",
       "    .dataframe tbody tr th {\n",
       "        vertical-align: top;\n",
       "    }\n",
       "\n",
       "    .dataframe thead th {\n",
       "        text-align: right;\n",
       "    }\n",
       "</style>\n",
       "<table border=\"1\" class=\"dataframe\">\n",
       "  <thead>\n",
       "    <tr style=\"text-align: right;\">\n",
       "      <th></th>\n",
       "      <th>Order_ID</th>\n",
       "      <th>Branch</th>\n",
       "      <th>Order_Date</th>\n",
       "      <th>Order_Priority</th>\n",
       "      <th>Manufacturer</th>\n",
       "      <th>Model_Name</th>\n",
       "      <th>Category</th>\n",
       "      <th>Screen_Size</th>\n",
       "      <th>RAM</th>\n",
       "      <th>OS</th>\n",
       "      <th>...</th>\n",
       "      <th>CPU_GHZ</th>\n",
       "      <th>Storage_SSD</th>\n",
       "      <th>Storage_HDD</th>\n",
       "      <th>Storage_Hybrid</th>\n",
       "      <th>Storage_Flash</th>\n",
       "      <th>Storage_Total</th>\n",
       "      <th>GPU_Brand</th>\n",
       "      <th>GPU_Model</th>\n",
       "      <th>Rating</th>\n",
       "      <th>Store</th>\n",
       "    </tr>\n",
       "  </thead>\n",
       "  <tbody>\n",
       "    <tr>\n",
       "      <th>0</th>\n",
       "      <td>0</td>\n",
       "      <td>Hamedan</td>\n",
       "      <td>1396-10-26</td>\n",
       "      <td>H</td>\n",
       "      <td>Dell</td>\n",
       "      <td>Vostro 3568</td>\n",
       "      <td>Notebook</td>\n",
       "      <td>15.6</td>\n",
       "      <td>8</td>\n",
       "      <td>Windows</td>\n",
       "      <td>...</td>\n",
       "      <td>2.5</td>\n",
       "      <td>256</td>\n",
       "      <td>0</td>\n",
       "      <td>0</td>\n",
       "      <td>0</td>\n",
       "      <td>256</td>\n",
       "      <td>AMD</td>\n",
       "      <td>Radeon R5 M420</td>\n",
       "      <td>NaN</td>\n",
       "      <td>NaN</td>\n",
       "    </tr>\n",
       "    <tr>\n",
       "      <th>1</th>\n",
       "      <td>1</td>\n",
       "      <td>Kermanshah</td>\n",
       "      <td>1394-04-21</td>\n",
       "      <td>H</td>\n",
       "      <td>Lenovo</td>\n",
       "      <td>Yoga 720-13IKB</td>\n",
       "      <td>2 in 1 Convertible</td>\n",
       "      <td>13.3</td>\n",
       "      <td>8</td>\n",
       "      <td>Windows</td>\n",
       "      <td>...</td>\n",
       "      <td>2.5</td>\n",
       "      <td>256</td>\n",
       "      <td>0</td>\n",
       "      <td>0</td>\n",
       "      <td>0</td>\n",
       "      <td>256</td>\n",
       "      <td>Intel</td>\n",
       "      <td>HD Graphics 620</td>\n",
       "      <td>NaN</td>\n",
       "      <td>NaN</td>\n",
       "    </tr>\n",
       "    <tr>\n",
       "      <th>2</th>\n",
       "      <td>2</td>\n",
       "      <td>Rasht</td>\n",
       "      <td>1402-05-24</td>\n",
       "      <td>M</td>\n",
       "      <td>Lenovo</td>\n",
       "      <td>IdeaPad Y700-15ISK</td>\n",
       "      <td>Notebook</td>\n",
       "      <td>15.6</td>\n",
       "      <td>8</td>\n",
       "      <td>Windows</td>\n",
       "      <td>...</td>\n",
       "      <td>2.6</td>\n",
       "      <td>0</td>\n",
       "      <td>1024</td>\n",
       "      <td>0</td>\n",
       "      <td>0</td>\n",
       "      <td>1024</td>\n",
       "      <td>Nvidia</td>\n",
       "      <td>GeForce GTX 960M</td>\n",
       "      <td>NaN</td>\n",
       "      <td>NaN</td>\n",
       "    </tr>\n",
       "    <tr>\n",
       "      <th>3</th>\n",
       "      <td>3</td>\n",
       "      <td>Kermanshah</td>\n",
       "      <td>1397-06-17</td>\n",
       "      <td>H</td>\n",
       "      <td>Dell</td>\n",
       "      <td>Inspiron 5370</td>\n",
       "      <td>Ultrabook</td>\n",
       "      <td>13.3</td>\n",
       "      <td>8</td>\n",
       "      <td>Windows</td>\n",
       "      <td>...</td>\n",
       "      <td>1.8</td>\n",
       "      <td>256</td>\n",
       "      <td>0</td>\n",
       "      <td>0</td>\n",
       "      <td>0</td>\n",
       "      <td>256</td>\n",
       "      <td>AMD</td>\n",
       "      <td>Radeon 530</td>\n",
       "      <td>NaN</td>\n",
       "      <td>NaN</td>\n",
       "    </tr>\n",
       "    <tr>\n",
       "      <th>4</th>\n",
       "      <td>4</td>\n",
       "      <td>Karaj</td>\n",
       "      <td>1392-09-30</td>\n",
       "      <td>L</td>\n",
       "      <td>Acer</td>\n",
       "      <td>Aspire E5-576G</td>\n",
       "      <td>Notebook</td>\n",
       "      <td>15.6</td>\n",
       "      <td>4</td>\n",
       "      <td>Windows</td>\n",
       "      <td>...</td>\n",
       "      <td>2.5</td>\n",
       "      <td>256</td>\n",
       "      <td>0</td>\n",
       "      <td>0</td>\n",
       "      <td>0</td>\n",
       "      <td>256</td>\n",
       "      <td>Nvidia</td>\n",
       "      <td>GeForce 940MX</td>\n",
       "      <td>NaN</td>\n",
       "      <td>NaN</td>\n",
       "    </tr>\n",
       "  </tbody>\n",
       "</table>\n",
       "<p>5 rows × 32 columns</p>\n",
       "</div>"
      ],
      "text/plain": [
       "   Order_ID      Branch  Order_Date Order_Priority Manufacturer  \\\n",
       "0         0     Hamedan  1396-10-26              H         Dell   \n",
       "1         1  Kermanshah  1394-04-21              H       Lenovo   \n",
       "2         2       Rasht  1402-05-24              M       Lenovo   \n",
       "3         3  Kermanshah  1397-06-17              H         Dell   \n",
       "4         4       Karaj  1392-09-30              L         Acer   \n",
       "\n",
       "           Model_Name            Category  Screen_Size  RAM       OS  ...  \\\n",
       "0         Vostro 3568            Notebook         15.6    8  Windows  ...   \n",
       "1      Yoga 720-13IKB  2 in 1 Convertible         13.3    8  Windows  ...   \n",
       "2  IdeaPad Y700-15ISK            Notebook         15.6    8  Windows  ...   \n",
       "3       Inspiron 5370           Ultrabook         13.3    8  Windows  ...   \n",
       "4      Aspire E5-576G            Notebook         15.6    4  Windows  ...   \n",
       "\n",
       "  CPU_GHZ  Storage_SSD  Storage_HDD  Storage_Hybrid  Storage_Flash  \\\n",
       "0     2.5          256            0               0              0   \n",
       "1     2.5          256            0               0              0   \n",
       "2     2.6            0         1024               0              0   \n",
       "3     1.8          256            0               0              0   \n",
       "4     2.5          256            0               0              0   \n",
       "\n",
       "   Storage_Total  GPU_Brand         GPU_Model Rating Store  \n",
       "0            256        AMD    Radeon R5 M420    NaN   NaN  \n",
       "1            256      Intel   HD Graphics 620    NaN   NaN  \n",
       "2           1024     Nvidia  GeForce GTX 960M    NaN   NaN  \n",
       "3            256        AMD        Radeon 530    NaN   NaN  \n",
       "4            256     Nvidia     GeForce 940MX    NaN   NaN  \n",
       "\n",
       "[5 rows x 32 columns]"
      ]
     },
     "execution_count": 43,
     "metadata": {},
     "output_type": "execute_result"
    }
   ],
   "source": [
    "# Read data / Clean version of sales_data.csv\n",
    "\n",
    "df = pd.read_csv(\"sales_data_clean.csv\")\n",
    "df.head()"
   ]
  },
  {
   "cell_type": "code",
   "execution_count": 44,
   "metadata": {},
   "outputs": [
    {
     "data": {
      "text/plain": [
       "Index(['Order_ID', 'Branch', 'Order_Date', 'Order_Priority', 'Manufacturer',\n",
       "       'Model_Name', 'Category', 'Screen_Size', 'RAM', 'OS', 'OS_Version',\n",
       "       'Weight', 'Price', 'Quantity', 'Discount', 'Total_Price', 'Profit',\n",
       "       'Ship_Duration', 'Screen_Type', 'Screen_resolution', 'CPU_Brand',\n",
       "       'CPU_Model', 'CPU_GHZ', 'Storage_SSD', 'Storage_HDD', 'Storage_Hybrid',\n",
       "       'Storage_Flash', 'Storage_Total', 'GPU_Brand', 'GPU_Model', 'Rating',\n",
       "       'Store'],\n",
       "      dtype='object')"
      ]
     },
     "execution_count": 44,
     "metadata": {},
     "output_type": "execute_result"
    }
   ],
   "source": [
    "df.columns"
   ]
  },
  {
   "cell_type": "code",
   "execution_count": 45,
   "metadata": {},
   "outputs": [
    {
     "data": {
      "text/html": [
       "<div>\n",
       "<style scoped>\n",
       "    .dataframe tbody tr th:only-of-type {\n",
       "        vertical-align: middle;\n",
       "    }\n",
       "\n",
       "    .dataframe tbody tr th {\n",
       "        vertical-align: top;\n",
       "    }\n",
       "\n",
       "    .dataframe thead th {\n",
       "        text-align: right;\n",
       "    }\n",
       "</style>\n",
       "<table border=\"1\" class=\"dataframe\">\n",
       "  <thead>\n",
       "    <tr style=\"text-align: right;\">\n",
       "      <th></th>\n",
       "      <th>Order_Priority</th>\n",
       "      <th>Profit</th>\n",
       "      <th>Discount</th>\n",
       "      <th>Total_Price</th>\n",
       "    </tr>\n",
       "  </thead>\n",
       "  <tbody>\n",
       "    <tr>\n",
       "      <th>0</th>\n",
       "      <td>C</td>\n",
       "      <td>1.434891e+06</td>\n",
       "      <td>0.610885</td>\n",
       "      <td>1.441604e+07</td>\n",
       "    </tr>\n",
       "    <tr>\n",
       "      <th>1</th>\n",
       "      <td>H</td>\n",
       "      <td>1.437536e+06</td>\n",
       "      <td>0.604128</td>\n",
       "      <td>1.444811e+07</td>\n",
       "    </tr>\n",
       "    <tr>\n",
       "      <th>2</th>\n",
       "      <td>L</td>\n",
       "      <td>1.438762e+06</td>\n",
       "      <td>0.603519</td>\n",
       "      <td>1.443300e+07</td>\n",
       "    </tr>\n",
       "    <tr>\n",
       "      <th>3</th>\n",
       "      <td>M</td>\n",
       "      <td>1.445273e+06</td>\n",
       "      <td>0.601281</td>\n",
       "      <td>1.449652e+07</td>\n",
       "    </tr>\n",
       "  </tbody>\n",
       "</table>\n",
       "</div>"
      ],
      "text/plain": [
       "  Order_Priority        Profit  Discount   Total_Price\n",
       "0              C  1.434891e+06  0.610885  1.441604e+07\n",
       "1              H  1.437536e+06  0.604128  1.444811e+07\n",
       "2              L  1.438762e+06  0.603519  1.443300e+07\n",
       "3              M  1.445273e+06  0.601281  1.449652e+07"
      ]
     },
     "execution_count": 45,
     "metadata": {},
     "output_type": "execute_result"
    }
   ],
   "source": [
    "# Group data by Order_Priority and calculate mean values\n",
    "\n",
    "grouped_data = (\n",
    "    df.groupby(\"Order_Priority\")[[\"Profit\", \"Discount\", \"Total_Price\"]]\n",
    "    .mean()\n",
    "    .reset_index()\n",
    ")\n",
    "grouped_data"
   ]
  },
  {
   "cell_type": "markdown",
   "metadata": {},
   "source": [
    "### Insights:\n",
    "- Critical (C):\n",
    "    - Average Profit:   1_434_891 IRT\n",
    "    - Average Discount: 61%\n",
    "    - Average Total Price: 14_416_040 IRT\n",
    "- High (H):\n",
    "    - Average Profit:   1_437_536 IRT\n",
    "    - Average Discount: 60%\n",
    "    - Average Total Price:  14_448_110 IRT\n",
    "- Medium (M):\n",
    "    - Average Profit:   1_438_762 IRT\n",
    "    - Average Discount: 60%\n",
    "    - Average Total Price:  14_433_000 IRT\n",
    "- Low (L):\n",
    "    - Average Profit:   1_445_273 IRT\n",
    "    - Average Discount: 60%\n",
    "    - Average Total Price:  14_496_520"
   ]
  },
  {
   "cell_type": "code",
   "execution_count": 46,
   "metadata": {},
   "outputs": [
    {
     "data": {
      "text/plain": [
       "(51152, 152923, 406110, 406896)"
      ]
     },
     "execution_count": 46,
     "metadata": {},
     "output_type": "execute_result"
    }
   ],
   "source": [
    "# Splitting the data into groups based on Order_Priority for the 'Profit' metric\n",
    "\n",
    "profit_group_C = df[df[\"Order_Priority\"] == \"C\"][\"Profit\"]\n",
    "profit_group_H = df[df[\"Order_Priority\"] == \"H\"][\"Profit\"]\n",
    "profit_group_L = df[df[\"Order_Priority\"] == \"L\"][\"Profit\"]\n",
    "profit_group_M = df[df[\"Order_Priority\"] == \"M\"][\"Profit\"]\n",
    "\n",
    "profit_group_C.size, profit_group_H.size, profit_group_L.size, profit_group_M.size"
   ]
  },
  {
   "cell_type": "code",
   "execution_count": 47,
   "metadata": {},
   "outputs": [
    {
     "data": {
      "text/plain": [
       "(1.5622736521064442, 0.20965936750334688)"
      ]
     },
     "execution_count": 47,
     "metadata": {},
     "output_type": "execute_result"
    }
   ],
   "source": [
    "# Performing the ANOVA test for 'Profit'\n",
    "\n",
    "f_stat_profit, p_value_profit = f_oneway(profit_group_H, profit_group_L, profit_group_M)\n",
    "f_stat_profit, p_value_profit"
   ]
  },
  {
   "cell_type": "markdown",
   "metadata": {},
   "source": [
    "> The relatively high p-value suggests that there isn't a statistically significant difference in the average profit across the different order priorities.\n",
    "\n"
   ]
  },
  {
   "cell_type": "code",
   "execution_count": 48,
   "metadata": {},
   "outputs": [
    {
     "data": {
      "text/plain": [
       "(0.25459349756651745, 0.7752316193363384)"
      ]
     },
     "execution_count": 48,
     "metadata": {},
     "output_type": "execute_result"
    }
   ],
   "source": [
    "# Splitting the data into groups based on Order_Priority for the 'Discount' metric\n",
    "# Performing the ANOVA test for 'Discount'\n",
    "\n",
    "discount_group_C = df[df[\"Order_Priority\"] == \"C\"][\"Discount\"]\n",
    "discount_group_H = df[df[\"Order_Priority\"] == \"H\"][\"Discount\"]\n",
    "discount_group_L = df[df[\"Order_Priority\"] == \"L\"][\"Discount\"]\n",
    "discount_group_M = df[df[\"Order_Priority\"] == \"M\"][\"Discount\"]\n",
    "\n",
    "f_stat_discount, p_value_discount = f_oneway(\n",
    "    discount_group_H, discount_group_L, discount_group_M\n",
    ")\n",
    "f_stat_discount, p_value_discount"
   ]
  },
  {
   "cell_type": "markdown",
   "metadata": {},
   "source": [
    "> The relatively high p-value suggests that there isn't a statistically significant difference in the discount rate across the different order priorities."
   ]
  },
  {
   "cell_type": "code",
   "execution_count": 49,
   "metadata": {},
   "outputs": [
    {
     "data": {
      "text/plain": [
       "(1.2342868266055282, 0.29104271115940095)"
      ]
     },
     "execution_count": 49,
     "metadata": {},
     "output_type": "execute_result"
    }
   ],
   "source": [
    "# Splitting the data into groups based on Order_Priority for the 'Total_Price' metric\n",
    "# Performing the ANOVA test for 'Total_Price'\n",
    "\n",
    "total_price_group_C = df[df[\"Order_Priority\"] == \"C\"][\"Total_Price\"]\n",
    "total_price_group_H = df[df[\"Order_Priority\"] == \"H\"][\"Total_Price\"]\n",
    "total_price_group_L = df[df[\"Order_Priority\"] == \"L\"][\"Total_Price\"]\n",
    "total_price_group_M = df[df[\"Order_Priority\"] == \"M\"][\"Total_Price\"]\n",
    "\n",
    "f_stat_total_price, p_value_total_price = f_oneway(\n",
    "    total_price_group_H, total_price_group_L, total_price_group_M\n",
    ")\n",
    "f_stat_total_price, p_value_total_price"
   ]
  },
  {
   "cell_type": "markdown",
   "metadata": {},
   "source": [
    "> The relatively high p-value suggests that there isn't a statistically significant difference in the total price across the different order priorities."
   ]
  },
  {
   "cell_type": "markdown",
   "metadata": {},
   "source": [
    "### Conclusion:\n",
    "> Based on the results of the statistical tests and the data provided there isn't a statistically significant difference in the Profit, Discount, and Total_Price across the different order priorities; Thus, this is not a value generating policy for the company."
   ]
  },
  {
   "cell_type": "markdown",
   "metadata": {},
   "source": []
  }
 ],
 "metadata": {
  "kernelspec": {
   "display_name": "qdaenv",
   "language": "python",
   "name": "python3"
  },
  "language_info": {
   "codemirror_mode": {
    "name": "ipython",
    "version": 3
   },
   "file_extension": ".py",
   "mimetype": "text/x-python",
   "name": "python",
   "nbconvert_exporter": "python",
   "pygments_lexer": "ipython3",
   "version": "3.11.3"
  }
 },
 "nbformat": 4,
 "nbformat_minor": 2
}
