{
 "cells": [
  {
   "cell_type": "code",
   "execution_count": 3,
   "id": "7b13ee15-aba0-4c94-9b2d-e3af08d63b94",
   "metadata": {},
   "outputs": [],
   "source": [
    "import requests\n",
    "from bs4 import BeautifulSoup\n",
    "import pandas as pd\n",
    "import json\n",
    "from concurrent.futures import ThreadPoolExecutor\n",
    "from concurrent.futures import as_completed\n",
    "import re\n",
    "import urllib.parse\n",
    "import numpy as np\n",
    "import math\n",
    "from time import sleep\n",
    "import random\n",
    "import sqlite3\n",
    "from sqlite3 import Error\n",
    "import os\n",
    "import random\n",
    "import time\n",
    "from IPython.display import display, Audio\n",
    "import time\n",
    "import re"
   ]
  },
  {
   "cell_type": "code",
   "execution_count": 26,
   "id": "d4102403",
   "metadata": {},
   "outputs": [],
   "source": [
    "data = pd.read_csv('page_data.csv')"
   ]
  },
  {
   "cell_type": "code",
   "execution_count": 27,
   "id": "6f1ba508",
   "metadata": {},
   "outputs": [],
   "source": [
    "links = data['full_url'].to_list()"
   ]
  },
  {
   "cell_type": "code",
   "execution_count": 5,
   "id": "a89cd364-8179-4f85-962c-0930e2653abb",
   "metadata": {},
   "outputs": [],
   "source": [
    "my_header = {\"Accept-Language\": \"en-US,en;q=0.9\",\n",
    "           \"User-agent\": \"Mozilla/5.0 (Windows NT 10.0; Win64; x64) AppleWebKit/537.36 (KHTML, like Gecko) Chrome/118.0.0.0 Safari/537.36\"}\n"
   ]
  },
  {
   "cell_type": "code",
   "execution_count": 7,
   "id": "4edf40f8",
   "metadata": {},
   "outputs": [],
   "source": [
    "import requests\n",
    "from bs4 import BeautifulSoup\n",
    "import pandas as pd\n",
    "\n",
    "def create_dictionary(numbers):\n",
    "    dictionary = {}\n",
    "    for i in range(len(numbers)):\n",
    "        if i % 2 == 0:\n",
    "            key = numbers[i]\n",
    "        else:\n",
    "            value = numbers[i]\n",
    "            dictionary[key] = value\n",
    "    return dictionary\n",
    "\n",
    "information = []\n",
    "for link in links[]:\n",
    "    try:\n",
    "        response = requests.get(link, headers=my_header)\n",
    "        response.raise_for_status()  \n",
    "\n",
    "        soup = BeautifulSoup(response.text, \"html.parser\")\n",
    "        sections = soup.select('#specs div')\n",
    "        section = [name.text for name in sections]\n",
    "        section = [name.replace('\\n', '') for name in section]\n",
    "        section = [name.replace('\\u200c', '') for name in section]\n",
    "        information.append(create_dictionary(section))\n",
    "\n",
    "    except requests.exceptions.RequestException as e:\n",
    "        print(f\"An error occurred while fetching data from {link}: {e}\")\n",
    "\n",
    "df = pd.DataFrame(information)\n",
    "df.to_csv('data_crawl.csv', index=False)\n"
   ]
  },
  {
   "cell_type": "code",
   "execution_count": 87,
   "id": "2159aaeb",
   "metadata": {},
   "outputs": [],
   "source": [
    "data = pd.read_csv('data_crawl.csv')"
   ]
  },
  {
   "cell_type": "code",
   "execution_count": 88,
   "id": "863957d8",
   "metadata": {},
   "outputs": [],
   "source": [
    "columns_name = data.columns"
   ]
  },
  {
   "cell_type": "code",
   "execution_count": 89,
   "id": "9275f057",
   "metadata": {},
   "outputs": [],
   "source": [
    "english_column_names = {\n",
    "    'ابعاد': 'Dimensions',\n",
    "    'وزن': 'Weight',\n",
    "    'نوع دستگاه': 'Device Type',\n",
    "    'نوع صفحه نمایش': 'Screen Type',\n",
    "    'اندازه صفحه نمایش': 'Screen Size',\n",
    "    'رزولوشن صفحه نمایش': 'Screen Resolution',\n",
    "    'صفحه نمایش لمسی': 'Touch Screen',\n",
    "    'توضیحات صفحه نمایش': 'Screen Description',\n",
    "    'سازنده پردازنده': 'Processor Manufacturer',\n",
    "    'سری پردازنده': 'Processor Series',\n",
    "    'مدل پردازنده': 'Processor Model',\n",
    "    'فرکانس پردازنده': 'Processor Frequency',\n",
    "    'فرکانس پردازنده در حالت توربو ': 'Turbo Processor Frequency',\n",
    "    'حافظه  کش پردازنده': 'Processor Cache Memory',\n",
    "    'حافظه رم': 'RAM Memory',\n",
    "    'نوع حافظه رم ': 'RAM Type',\n",
    "    'ظرفیت حافظه داخلی': 'Internal Memory Capacity',\n",
    "    'نوع حافظه داخلی': 'Internal Memory Type',\n",
    "    ' سازنده کارت گرافیک': 'Graphics Card Manufacturer',\n",
    "    'مدل کارت گرافیک': 'Graphics Card Model',\n",
    "    'حافظه اختصاصی گرافیکی': 'Dedicated Graphics Memory',\n",
    "    'درایو نوری': 'Optical Drive',\n",
    "    'درگاه  USB 3.0': 'USB 3.0 Port',\n",
    "    'درگاه USB-C': 'USB-C Port',\n",
    "    'پورت شبکه': 'Network Port',\n",
    "    'اتصال Wi-Fi': 'Wi-Fi Connection',\n",
    "    'اتصال Bluetooth': 'Bluetooth Connection',\n",
    "    'کارت خوان': 'Card Reader',\n",
    "    'جک 3.5 میلیمتری': '3.5mm Jack',\n",
    "    'حسگر اثر انگشت': 'Fingerprint Sensor',\n",
    "    'وب کم': 'Webcam',\n",
    "    'اسپیکر': 'Speakers',\n",
    "    'ظرفیت باتری': 'Battery Capacity',\n",
    "    'کارکرد باتری': 'Battery Life',\n",
    "    'سیستم عامل': 'Operating System',\n",
    "    'کیبورد با نور پس زمینه': 'Backlit Keyboard',\n",
    "    'مشخصات تاچ پد': 'Touchpad Specifications',\n",
    "    'سایر امکانات': 'Other Features',\n",
    "    'مزایا': 'Advantages',\n",
    "    'درگاه VGA': 'VGA Port',\n",
    "    'درگاه HDMI': 'HDMI Port',\n",
    "    'درگاه USB 3.1': 'USB 3.1 Port',\n",
    "    'درگاه Thunderbolt': 'Thunderbolt Port',\n",
    "    'فرکانس رم': 'RAM Frequency',\n",
    "    'درگاه USB 3.2': 'USB 3.2 Port',\n",
    "    'نوع باتری': 'Battery Type',\n",
    "    'تعداد سلول باتری': 'Battery Cell Count',\n",
    "    'مشخصات حافظه داخلی': 'Internal Memory Specifications',\n",
    "    'صفحه نمایش مات': 'Matte Screen',\n",
    "    'درگاه USB 2.0': 'USB 2.0 Port',\n",
    "    'توضیحات کیبورد': 'Keyboard Description',\n",
    "    'اقلام همراه لپ تاپ': 'Included Laptop Accessories',\n",
    "    'صفحه نمایش براق': 'Glossy Screen',\n",
    "    'کل حافظه گرافیکی': 'Total Graphics Memory',\n",
    "    'درگاه mini Display': 'Mini Display Port',\n",
    "    'سرعت چرخش هارد': 'Hard Drive Rotation Speed',\n",
    "    'معایب': 'Disadvantages',\n",
    "    'اتصال NFC': 'NFC Connection'\n",
    "}\n",
    "\n",
    "data.rename(columns=english_column_names, inplace=True)\n"
   ]
  },
  {
   "cell_type": "code",
   "execution_count": 90,
   "id": "b2c676e7",
   "metadata": {},
   "outputs": [],
   "source": [
    "data['Weight']=data['Weight'].str.replace('کیلوگرم','')\n",
    "data['Screen Size']=data['Screen Size'].str.replace('اینچ','')\n",
    "data['Processor Model'] = data['Processor Model'].str.replace(r'i[3579]-|Ryzen \\d+|i[3579]', '', regex=True )\n",
    "data['Processor Frequency']=data['Processor Frequency'].str.replace('گیگاهرتز|گیگا هرتز','',regex=True)\n",
    "data['Turbo Processor Frequency']=data['Turbo Processor Frequency'].str.replace('گیگاهرتز|گیگا هرتز','',regex=True)\n",
    "data['Processor Cache Memory']=data['Processor Cache Memory'].str.replace('مگابایت','')\n",
    "data['RAM Memory']=data['RAM Memory'].str.replace('گیگابایت','')\n",
    "data['Dedicated Graphics Memory'] = data['Dedicated Graphics Memory'].str.replace('گیگابایت|گیگا بایت', '', regex=True)\n",
    "data['Internal Memory Capacity'] = data['Internal Memory Capacity'].str.replace('گیگابایت|گیگا بایت', 'Gb', regex=True)\n",
    "data['Internal Memory Capacity'] = data['Internal Memory Capacity'].str.replace('ترابایت|ترا بایت', 'Tb', regex=True)\n",
    "data['Battery Cell Count'] = data['Battery Cell Count'].str.replace('سلول', '')\n",
    "data['Battery Life'] = data['Battery Life'].str.replace('ساعت', '')\n",
    "data['RAM Frequency']=data['RAM Frequency'].str.replace('مگا هرتز|مگاهرتز','', regex=True)\n"
   ]
  },
  {
   "cell_type": "code",
   "execution_count": 91,
   "id": "5ac3f4d6",
   "metadata": {},
   "outputs": [],
   "source": [
    "def convert_capacity(value):\n",
    "    try:\n",
    "        num = float(value.replace('Tb', '').strip())\n",
    "        return str(int(num * 1000)) + 'Gb'\n",
    "    except:\n",
    "        return value\n",
    "\n",
    "data['Internal Memory Capacity'] = data['Internal Memory Capacity'].apply(convert_capacity)\n"
   ]
  },
  {
   "cell_type": "code",
   "execution_count": 92,
   "id": "4fdce496",
   "metadata": {},
   "outputs": [],
   "source": [
    "data.to_csv('meghdad_data.csv', index=False)\n"
   ]
  },
  {
   "cell_type": "code",
   "execution_count": 103,
   "id": "66775613",
   "metadata": {},
   "outputs": [],
   "source": [
    "data_temp = pd.read_csv('page_data.csv')"
   ]
  },
  {
   "cell_type": "code",
   "execution_count": 104,
   "id": "7de1d52d",
   "metadata": {},
   "outputs": [],
   "source": [
    "manufacturer_names = []"
   ]
  },
  {
   "cell_type": "code",
   "execution_count": 105,
   "id": "bf31d636",
   "metadata": {},
   "outputs": [],
   "source": [
    "pattern = r'\\/([^\\/]+)-'\n",
    "\n",
    "for url in data_temp['full_url']:\n",
    "    match = re.search(pattern, url)\n",
    "    if match:\n",
    "        manufacturer = match.group(1)\n",
    "    else:\n",
    "        manufacturer = \"Unknown\"\n",
    "    manufacturer_names.append(manufacturer)"
   ]
  },
  {
   "cell_type": "code",
   "execution_count": 106,
   "id": "b8dfa641",
   "metadata": {},
   "outputs": [],
   "source": [
    "data_temp['manufacturer'] = manufacturer_names\n"
   ]
  },
  {
   "cell_type": "code",
   "execution_count": 109,
   "id": "f2a56ae9",
   "metadata": {},
   "outputs": [],
   "source": [
    "manufacturer_names = []\n",
    "for product_name in data_temp['manufacturer']:\n",
    "    manufacturer = product_name.split('-')[0]\n",
    "    manufacturer_names.append(manufacturer)\n",
    "data_temp['manufacturer'] = manufacturer_names"
   ]
  },
  {
   "cell_type": "code",
   "execution_count": 110,
   "id": "15228f69",
   "metadata": {},
   "outputs": [],
   "source": [
    "data_temp[['org_price', 'off_price']] = data_temp[['org_price', 'off_price']]"
   ]
  },
  {
   "cell_type": "code",
   "execution_count": 111,
   "id": "8dc8783d",
   "metadata": {},
   "outputs": [],
   "source": [
    "data_temp[['org_price', 'off_price']] = data_temp[['org_price', 'off_price']].replace({',': '', 'تومان': '' , 'به زودی':np.nan,'توقف تولید':np.nan}, regex=True)\n"
   ]
  },
  {
   "cell_type": "code",
   "execution_count": 112,
   "id": "51376d0d",
   "metadata": {},
   "outputs": [],
   "source": [
    "data_temp.fillna(0,inplace=True)"
   ]
  },
  {
   "cell_type": "code",
   "execution_count": 113,
   "id": "e8254adf",
   "metadata": {},
   "outputs": [],
   "source": [
    "data_temp['org_price'] = data_temp['org_price'].astype(int)\n",
    "data_temp['off_price'] = data_temp['off_price'].astype(int)"
   ]
  },
  {
   "cell_type": "code",
   "execution_count": 114,
   "id": "bca20279",
   "metadata": {},
   "outputs": [],
   "source": [
    "data_temp['Discount Percent'] = round(((data_temp['org_price'] - data_temp['off_price']) / data_temp['org_price']) * 100,1)"
   ]
  },
  {
   "cell_type": "code",
   "execution_count": 116,
   "id": "d9513d6e",
   "metadata": {},
   "outputs": [],
   "source": [
    "data_asist=data_temp.copy()"
   ]
  },
  {
   "cell_type": "code",
   "execution_count": 123,
   "id": "3810ff10",
   "metadata": {},
   "outputs": [],
   "source": [
    "data_asist.drop(columns=['full_url'] , inplace=True)"
   ]
  },
  {
   "cell_type": "code",
   "execution_count": 129,
   "id": "c5d439ca",
   "metadata": {},
   "outputs": [],
   "source": [
    "final_data = pd.concat([data, data_asist] , axis=1)"
   ]
  },
  {
   "cell_type": "code",
   "execution_count": 133,
   "id": "da732a3f",
   "metadata": {},
   "outputs": [],
   "source": [
    "final_data.drop(columns=['Unnamed: 0'] , inplace=True)"
   ]
  },
  {
   "cell_type": "code",
   "execution_count": 141,
   "id": "762c6cdc",
   "metadata": {},
   "outputs": [],
   "source": [
    "final_data['Discount Percent'] = final_data['Discount Percent'].replace(-np.inf, 0)"
   ]
  },
  {
   "cell_type": "code",
   "execution_count": 144,
   "id": "f452405f",
   "metadata": {},
   "outputs": [],
   "source": [
    "final_data.to_csv('meghdad_data_final.csv', index=False)\n"
   ]
  }
 ],
 "metadata": {
  "kernelspec": {
   "display_name": "Python 3 (ipykernel)",
   "language": "python",
   "name": "python3"
  },
  "language_info": {
   "codemirror_mode": {
    "name": "ipython",
    "version": 3
   },
   "file_extension": ".py",
   "mimetype": "text/x-python",
   "name": "python",
   "nbconvert_exporter": "python",
   "pygments_lexer": "ipython3",
   "version": "3.9.18"
  }
 },
 "nbformat": 4,
 "nbformat_minor": 5
}
